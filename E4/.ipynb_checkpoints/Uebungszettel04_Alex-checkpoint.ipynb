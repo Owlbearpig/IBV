{
 "cells": [
  {
   "cell_type": "markdown",
   "metadata": {},
   "source": [
    "<h1><center>Übungszettel 4</center></h1>\n",
    "<h2><center>Inhaltsbasierte Bild- und Videoanalyse - SoSe 19</center></h2>\n",
    "\n",
    "Hinweis: Alle Lösungen sollen in einem IPython Notebook realisiert werden, wobei Teilaufgaben und Zwischenergebnisse ausgegeben bzw. visualisiert werden sollen. Die Übungszettel sollen in Gruppen von 3 Personen abgegeben werden. Die Datei soll nach folgendem Muster benannt werden: uebung01 {nachname1} {nachname2} {nachname3}.ipynb\n",
    "\n",
    "Für eine Einleitung in IPython siehe z.B.: http://cs231n.github.io/ipython-tutorial/\n"
   ]
  },
  {
   "cell_type": "markdown",
   "metadata": {},
   "source": [
    "## Aufgabe 1 - Künstliche Neuronale Netze\n",
    "\n",
    "### Aufgabe 1.1: Grundlagen (0,5+0,5+0,5+0,5+0,5 Punkte)\n",
    "\n",
    "##### a) Erklären Sie den Unterschied zwischen Trainings-, Validierungs- und Testdatensatz."
   ]
  },
  {
   "cell_type": "markdown",
   "metadata": {},
   "source": []
  },
  {
   "cell_type": "markdown",
   "metadata": {},
   "source": [
    "#### b) Erklären Sie den Begriff Overfitting."
   ]
  },
  {
   "cell_type": "markdown",
   "metadata": {},
   "source": []
  },
  {
   "cell_type": "markdown",
   "metadata": {},
   "source": [
    "#### c) Was bewirken L1 und L2 Regularisierung?"
   ]
  },
  {
   "cell_type": "markdown",
   "metadata": {},
   "source": []
  },
  {
   "cell_type": "markdown",
   "metadata": {},
   "source": [
    "#### d) Geben Sie die mathematische Definition eines Neurons an."
   ]
  },
  {
   "cell_type": "markdown",
   "metadata": {},
   "source": []
  },
  {
   "cell_type": "markdown",
   "metadata": {},
   "source": [
    "#### e) Erklären Sie die Begriffe Vektor, Matrix und Tensor im Kontext von neuronalen Netzen."
   ]
  },
  {
   "cell_type": "markdown",
   "metadata": {},
   "source": []
  },
  {
   "cell_type": "markdown",
   "metadata": {},
   "source": [
    "# Aufgabe 1.2: Backpropagation (5,5+1 Punkte)\n",
    "\n",
    "Mathematische Ausdrücke sollen in den folgenden Teilaufgaben in Latex eingebunden werden.\n",
    "\n",
    "#### a) Berechnen Sie die Werte $\n",
    "f_1, f_2, f_3, f_4, f_t,\n",
    "\\frac{df_t}{dw_0},\n",
    "\\frac{df_t}{dw_1},\n",
    "\\frac{df_t}{dw_2},\n",
    "\\frac{df_t}{dx_0},\n",
    "\\frac{df_t}{dx_1},\n",
    "\\frac{df_t}{dx_2},\n",
    "\\frac{df_t}{db},\n",
    "\\frac{df_t}{df_1},\n",
    "\\frac{df_t}{df_2},\n",
    "\\frac{df_t}{df_3},\n",
    "\\frac{df_t}{df_4}, \\frac{df_t}{df_t}.\n",
    "$\n",
    "\n",
    "\n",
    "\n",
    "<img src=\"tanh_graph.png\" width=\"750\">"
   ]
  },
  {
   "cell_type": "markdown",
   "metadata": {},
   "source": [
    "$$\n",
    "f_1 = w_0*x_0 + w_1*x_1 + w_2*x_2 + b= 2*(-0.75) + 3*2 + 3*(-1) -2 = -0.5\\\\\n",
    "f_2 = 2*f_1 = 2*(-0.5) = -1\\\\\n",
    "f_3 =  \\exp{f_2} = \\frac{1}{e} = 0.37\\\\\n",
    "f_4 = f_3 + 1 = 0.37 + 1 = 1.37\\\\\n",
    "f_5 = \\frac{2}{f_4} = \\frac{2}{1.37} = 1.46\\\\\n",
    "f_t = 1-f_5 = 1-1.46 = -0.46\\\\\n",
    "\\frac{df_t}{dw_0} = -0.54\\\\\n",
    "\\frac{df_t}{dw_1} = 1.44\\\\\n",
    "\\frac{df_t}{dw_2} = 2.16\\\\\n",
    "\\frac{df_t}{dx_0} = 1.44\\\\\n",
    "\\frac{df_t}{dx_1} = 2.16\\\\\n",
    "\\frac{df_t}{dx_2} = -0.72\\\\\n",
    "\\frac{df_t}{db} =  0.72\\\\\n",
    "\\frac{df_t}{df_1} = \\frac{d(x*2)}{dx}(f1)*\\frac{df_t}{df_2} = (2)*(0.36) = 0.72\\\\\n",
    "\\frac{df_t}{df_2} = \\frac{d(exp(x))}{dx}(f2)*\\frac{df_t}{df_3} = \\frac{1}{e}*(0.98) = 0.36\\\\\n",
    "\\frac{df_t}{df_3} = \\frac{d(x+1)}{dx}(f3)*\\frac{df_t}{df_4} = (1)*(0.98) = 0.98\\\\\n",
    "\\frac{df_t}{df_4} = \\frac{d(2/x)}{dx}(f4)*\\frac{df_t}{df_5} = \\frac{-2}{1.73^2}*(-1.46) = 0.98\\\\\n",
    "\\frac{df_t}{df_5} = \\frac{d(1-x)}{dx}(f5)*\\frac{df_t}{df_t} = (-1)*1.46*1 = -1.46\\\\\n",
    "\\frac{df_t}{df_t} = 1\\\\\n",
    "$$"
   ]
  },
  {
   "cell_type": "markdown",
   "metadata": {},
   "source": [
    "#### b) Wo wird die multivariate Kettenregel bei der Error Backpropagation in neuronalen Netzen angewendet?"
   ]
  },
  {
   "cell_type": "markdown",
   "metadata": {},
   "source": [
    "Um den Gradienten zu berechnen"
   ]
  },
  {
   "cell_type": "markdown",
   "metadata": {},
   "source": [
    "# Softmax (1+1+1+1+2 Punkte)\n",
    "\n",
    "Die Softmaxfunktion wird genutzt, um die Ausgaben eines neuronalen Netzes als Wahrscheinlichkeitsverteilung über $K$ Klassen zu repräsentieren. Die Wahrscheinlichkeit für eine Klasse $j$ ist also\n",
    "$p_j = \\frac{e^{o_j}}{\\sum_{k=1}^K e^{o_k}}$. Oft wird ein neuronales Netz auf logarithmischen Loss optimiert. Dieser ist definiert als $ L = -\\sum_j y_j \\log p_j $.\n",
    "\n",
    "Nehmen Sie an, dass das Netz eine von drei Klassen vorraussagen soll und für ein bestimmtes Beispiel die Ausgabe $\\hat{p}=\\begin{pmatrix}0.23\\\\0.26\\\\0.51\\end{pmatrix} $ liefert und die dritte Klasse die richtige ist, also $\\hat{y}=\\begin{pmatrix}0\\\\0\\\\1\\end{pmatrix} $.\n",
    "\n",
    "Mathematische Ausdrücke sollen in den folgenden Teilaufgaben in Latex eingebunden werden."
   ]
  },
  {
   "cell_type": "markdown",
   "metadata": {},
   "source": [
    "#### a) Geben Sie den Loss $L$ für $\\hat{p}$ an."
   ]
  },
  {
   "cell_type": "markdown",
   "metadata": {},
   "source": [
    "$ L = -\\sum_j y_j \\log p_j = - (0*\\log 0.23 + 0*\\log 0.26 + 1*\\log 0.51) = \\log \\frac{1}{0.51} = 0.29$ "
   ]
  },
  {
   "cell_type": "markdown",
   "metadata": {},
   "source": [
    "#### b) Berechnen Sie $\\frac{\\partial L}{\\partial p_i}$."
   ]
  },
  {
   "cell_type": "markdown",
   "metadata": {},
   "source": [
    "$\\frac{\\partial L}{\\partial p_i} = -\\frac{\\partial}{\\partial p_i} \\sum_j y_j \\log p_j = - \\sum_j y_j \\frac{\\partial }{\\partial p_i}\\log p_j = - \\sum_j \\delta_{ij}\\frac{y_j}{p_i} = - \\frac{y_i}{p_i}$"
   ]
  },
  {
   "cell_type": "markdown",
   "metadata": {},
   "source": [
    "#### c) Geben $ \\nabla_{p} L$ für $\\hat{p}$ an."
   ]
  },
  {
   "cell_type": "markdown",
   "metadata": {},
   "source": [
    "$\\nabla_{p} L = \\begin{pmatrix}\\frac{\\partial L}{\\partial p_1}\\\\\\frac{\\partial L}{\\partial p_2}\\\\\\frac{\\partial L}{\\partial p_3}\\end{pmatrix} = \\begin{pmatrix}- \\frac{y_1}{p_1}\\\\ - \\frac{y_2}{p_2} \\\\ - \\frac{y_3}{p_3} \\end{pmatrix} = \\begin{pmatrix}- \\frac{0}{0.23}\\\\ - \\frac{0}{0.26} \\\\ - \\frac{1}{0.51} \\end{pmatrix} = \\begin{pmatrix}0\\\\ 0 \\\\ - 1.96 \\end{pmatrix}$"
   ]
  },
  {
   "cell_type": "markdown",
   "metadata": {},
   "source": [
    "#### d) Zeigen Sie für die Ableitung der Softmaxfunktion, dass folgendes gilt:\n",
    "\n",
    "1) $\\frac{\\partial p_j}{\\partial o_i} = -p_ip_j, \\;\\;\\;\\; j\\ne i$\n",
    "\n",
    "2) $\\frac{\\partial p_j}{\\partial o_i} = p_i(1-p_i),    \\;\\;\\;\\; j=i$\n",
    "\n",
    "\n"
   ]
  },
  {
   "cell_type": "markdown",
   "metadata": {},
   "source": [
    "$o_i \\equiv i, \\frac{\\partial}{\\partial_{o_i}} \\equiv \\partial_i, p_j = \\frac{e^{o_j}}{\\sum_{k=1}^K e^{o_k}} = \\frac{e^{j}}{\\sum_{k} e^{k}}$ etc. Benutze Quotientenregel und def von p\n",
    "\n",
    "$\\partial_i p_j = \\partial_i \\frac{e^j}{\\sum_k e^k} = \\frac{\\partial_i (e^j) \\sum_k e^k - e^j \\partial_i \\sum_k e^k}{\\left(\\sum_k e^k\\right)^2} = \\frac{\\delta_{ij}e^j \\sum_k e^k - e^i e^j}{\\left(\\sum_k e^k\\right)^2} = \\frac{\\delta_{ij} e^j}{\\sum_k e^k} - \\frac{e^i e^j}{\\left(\\sum_k e^k\\right)^2} = \\delta_{ij} p_j - p_i p_j \\implies 1), 2)$ "
   ]
  },
  {
   "cell_type": "markdown",
   "metadata": {},
   "source": [
    "#### e) Zeigen Sie, dass gilt: $ \\frac{\\partial L}{\\partial o_i} = p_i-y_i $\n",
    "(Hinweis: Nutzen Sie die Gleichungen aus Aufgabenteil d))\n",
    "\n",
    "\n",
    "\n",
    "\n"
   ]
  },
  {
   "cell_type": "markdown",
   "metadata": {},
   "source": [
    "$\\partial_i L = - \\partial_i \\sum_j y_j \\log p_j = - \\sum_j y_j \\partial_i \\log p_j = - \\sum_j y_j  \\frac{1}{p_j} \\partial_i p_j \\stackrel{\\text{d)}}{=} - \\sum_j y_j  \\frac{1}{p_j} (\\delta_{ij} p_j - p_i p_j) = -\\sum_j y_j \\frac{1}{p_j}\\delta_{ij}p_j + \\sum_j y_j \\frac{1}{p_j}p_i p_j = - \\sum_j y_j \\delta_{ij} + \\sum_j y_j p_i = -y_i + \\sum_j y_j p_i \\stackrel{\\text{def y}}{=} p_i - y_i$"
   ]
  },
  {
   "cell_type": "code",
   "execution_count": null,
   "metadata": {},
   "outputs": [],
   "source": []
  }
 ],
 "metadata": {
  "kernelspec": {
   "display_name": "Python 3",
   "language": "python",
   "name": "python3"
  },
  "language_info": {
   "codemirror_mode": {
    "name": "ipython",
    "version": 3
   },
   "file_extension": ".py",
   "mimetype": "text/x-python",
   "name": "python",
   "nbconvert_exporter": "python",
   "pygments_lexer": "ipython3",
   "version": "3.7.2"
  }
 },
 "nbformat": 4,
 "nbformat_minor": 1
}
