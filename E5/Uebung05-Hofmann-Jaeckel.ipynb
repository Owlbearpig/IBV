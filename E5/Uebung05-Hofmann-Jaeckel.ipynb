{
 "cells": [
  {
   "cell_type": "markdown",
   "metadata": {},
   "source": [
    "<h1><center>Übungszettel 5</center></h1>\n",
    "<h2><center>Inhaltsbasierte Bild- und Videoanalyse - SoSe 19</center></h2>\n",
    "<h3><center>Abgabe: Mo. 07.06.2019 - 12:00 Uhr</center></h3>\n"
   ]
  },
  {
   "cell_type": "markdown",
   "metadata": {},
   "source": [
    "\n",
    "### Aufgabe 1 - Tensorflow (6+2 Punkte)}\n",
    "\n",
    "a) Installieren Sie Tensorflow \n",
    "(www.tensorflow.org/install). \n",
    "Bilden Sie den Berechnungsgraph aus Aufgabe 1 von Übungszettel 4 in\n",
    "Tensorflow nach, füttern Sie den Graph mit den gegebenen Input-Werten \n",
    "und lassen Sie die Werte $f_t$, $\\frac{df_t}{dw_0}$, $\\frac{df_t}{dw_1}$,\n",
    "$\\frac{df_t}{dw_2}$, $\\frac{df_t}{dx_0}$, $\\frac{df_t}{dx_1}$,\n",
    "$\\frac{df_t}{dx_2}$, $\\frac{df_t}{db}$ automatisch berechnen."
   ]
  },
  {
   "cell_type": "code",
   "execution_count": null,
   "metadata": {},
   "outputs": [],
   "source": [
    "import numpy as np\n",
    "import tensorflow as tf\n",
    "\n",
    "tf.reset_default_graph()\n",
    "\n",
    "w_0 = tf.placeholder(tf.float32)\n",
    "w_1 = tf.placeholder(tf.float32)\n",
    "w_2 = tf.placeholder(tf.float32)\n",
    "x_0 = tf.placeholder(tf.float32)\n",
    "x_1 = tf.placeholder(tf.float32)\n",
    "x_2 = tf.placeholder(tf.float32)\n",
    "\n",
    "b = tf.placeholder(tf.float32)\n",
    "\n",
    "y_0 = tf.multiply(w_0, x_0, name=\"W_0xX_0\")\n",
    "y_1 = tf.multiply(w_1, x_1, name=\"W_1xX_1\")\n",
    "y_2 = tf.multiply(w_2, x_2, name=\"W_2xX_2\")\n",
    "\n",
    "f_1 = tf.add_n([y_0, y_1, y_2, b], name='f_1')\n",
    "f_2 = tf.multiply(f_1, 2, name=\"f_2\")\n",
    "f_3 = tf.math.exp(f_2, name=\"f_3\")\n",
    "f_4 = tf.add(f_3, 1.0, name=\"f_4\")\n",
    "f_5 = tf.divide(2.0, f_4, name=\"f_5\")\n",
    "f_t = tf.subtract(1.0, f_5, name=\"f_t\")\n",
    "\n",
    "grad_w_0, grad_w_1, grad_w_2, grad_x_0, grad_x_1, grad_x_2, grad_b = tf.gradients(\n",
    "    f_t,\n",
    "    [\n",
    "        w_0,\n",
    "        w_1,\n",
    "        w_2,\n",
    "        x_0,\n",
    "        x_1,\n",
    "        x_2,\n",
    "        b\n",
    "    ])\n",
    "\n",
    "with tf.Session() as sess:\n",
    "    values = {\n",
    "        w_0: 2.0,\n",
    "        w_1: 3.0,\n",
    "        w_2: -1.0,\n",
    "        x_0: -0.75,\n",
    "        x_1: 2.0,\n",
    "        x_2: 3.0,\n",
    "        b: -2.0\n",
    "    }\n",
    "    writer = tf.summary.FileWriter('./graphs', sess.graph)\n",
    "    out = sess.run([\n",
    "        f_t,\n",
    "        grad_w_0,\n",
    "        grad_w_1,\n",
    "        grad_w_2,\n",
    "        grad_x_0,\n",
    "        grad_x_1,\n",
    "        grad_x_2,\n",
    "        grad_b\n",
    "        ], feed_dict=values);\n",
    "    f_t_val, grad_w_0_val, grad_w_1_val, grad_w_2_val, grad_x_0_val, grad_x_1_val, grad_x_2_val, grad_b_val = out;\n",
    "\n",
    "    print('ft: {0}'.format(f_t_val))\n",
    "    print('dft/dw0: {0}, \\ndft/dw1: {1},\\ndft/dw2: {2}'.format(\n",
    "            grad_w_0_val, \n",
    "            grad_w_1_val,\n",
    "            grad_w_2_val \n",
    "            ))\n",
    "    print('dft/dx0: {0},\\ndft/dx1: {1},\\ndft/dx2: {2}'.format(\n",
    "            grad_x_0_val, \n",
    "            grad_x_1_val,\n",
    "            grad_x_2_val \n",
    "            ))\n",
    "    print('dft/db: {0}'.format(grad_b_val))\n"
   ]
  },
  {
   "cell_type": "markdown",
   "metadata": {},
   "source": [
    "b) Visualieren Sie den Graph mithilfe von Tensorboard. Speichern Sie den Graph als Bild ab und binden Sie die Grafik mithilfe von \"%matplotlib inline\" ein."
   ]
  },
  {
   "cell_type": "code",
   "execution_count": null,
   "metadata": {},
   "outputs": [],
   "source": [
    "import PIL\n",
    "import matplotlib.pyplot as plt\n",
    "\n",
    "%matplotlib inline\n",
    "\n",
    "fig = plt.gcf()\n",
    "fig.set_size_inches(18.5, 10.5)\n",
    "\n",
    "img = PIL.Image.open(\"graph.png\")\n",
    "\n",
    "plt.imshow(img)\n"
   ]
  },
  {
   "cell_type": "markdown",
   "metadata": {},
   "source": [
    "### Aufgabe 2 - Convolutional Neural Networks (8 Punkte)\n",
    "\n",
    "Betrachten Sie ein CNN mit eindimensionalem Input. Die Konzepte für den eindimensionalen Fall entsprechen denen für zweidimensionale Netze. Daten werden im Netz als dreidimensionale Arrays interpretiert. Jede Zeile entspricht einer Featuremap, jede Spalte einer Dimension und die Tiefe des Arrays der Batch-Größe. Hier wird allerdings nur ein Eingabevektor betrachtet, die Tiefe ist daher eins.\n",
    "\n",
    "Das CNN ist folgendermaßen spezifiziert:\n",
    "- **Input**: Matrix der Größe $1\\times12\\times1$. Die Eingabe besteht also aus einer einzigen Featuremap mit 12 Dimensionen.\n",
    "- **Erste Convolutional Layer**: Zwei Filter $F_0^1=(-1,0,1)$ und $F_1^1=(1,0,-1)$ mit Padding = 0 und Schrittweite = 1.\n",
    "- **Max Pooling Layer** mit Größe = 2 und Schrittweite = 2.\n",
    "- **Zweite Convolutional Layer**: Filter $F_0^2=((-1,0,1),(1,0,-1))$ mit Padding = 0 und Schrittweite = 1.\n",
    "- **Vollständig verbundene Schicht (FC)**, die alle Eingaben auf zwei Ausgaben abbildet. Die Gewichte für die erste Ausgabe sind alle -1 und für die zweite Ausgabe alle 1.\n",
    "- **Sigmoid-Aktivierungsfunktion**\n",
    "\n",
    "Berechnen Sie die Ausgabe des neuronalen Netzes für den Input (0,0,0,0,1,1,1,1,0,0,0,0):"
   ]
  },
  {
   "cell_type": "markdown",
   "metadata": {},
   "source": [
    "<center>\n",
    "    $\\begin{align*}\n",
    "        (0,0,0,0,1,1,1,1,0,0,0,0) \\\\\n",
    "        \\Downarrow& \\quad Conv 1 \\\\\n",
    "        (0,0,-1,-1,0,0,1,1,0,0) \\\\\n",
    "        (0,0,1,1,0,0,-1,-1,0,0) \\\\\n",
    "        \\Downarrow& \\quad Pooling \\\\\n",
    "        (0,-1,0,1,0) \\\\\n",
    "        (0,1,0,-1,0) \\\\\n",
    "        \\Downarrow& \\quad Conv 2 \\\\\n",
    "        (0,4,0)\\\\\n",
    "        \\Downarrow& \\quad FC \\\\\n",
    "        (-4, 4)\\\\\n",
    "        \\Downarrow& \\quad Sigmoid \\\\\n",
    "        (0.01799,0.98201)\n",
    "    \\end{align*}$\n",
    "</center>"
   ]
  },
  {
   "cell_type": "code",
   "execution_count": null,
   "metadata": {},
   "outputs": [],
   "source": []
  }
 ],
 "metadata": {
  "kernelspec": {
   "display_name": "Python 3",
   "language": "python",
   "name": "python3"
  },
  "language_info": {
   "codemirror_mode": {
    "name": "ipython",
    "version": 3
   },
   "file_extension": ".py",
   "mimetype": "text/x-python",
   "name": "python",
   "nbconvert_exporter": "python",
   "pygments_lexer": "ipython3",
   "version": "3.6.7"
  }
 },
 "nbformat": 4,
 "nbformat_minor": 2
}
