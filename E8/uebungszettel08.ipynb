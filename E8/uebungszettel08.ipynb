{
 "cells": [
  {
   "cell_type": "markdown",
   "metadata": {},
   "source": [
    "<h1><center>Übungszettel 8</center></h1>\n",
    "<h2><center>Inhaltsbasierte Bild- und Videoanalyse - SoSe 19</center></h2>\n",
    "<h3><center>Abgabe: Mi. 10.07.2019 - 08:00 Uhr</center></h3>"
   ]
  },
  {
   "cell_type": "markdown",
   "metadata": {},
   "source": [
    "# Aufgabe 1 - DeepDream (2 + 2)\n",
    "\n",
    "#### In dieser Aufgabe soll ein existierendes Modell genutzt werden um mithilfe von Gradient Ascent “DeepDream”-Bilder zu generieren.\n",
    "#### a)\tVerwenden Sie ein eigenes Bild und wenden Sie den DeepDream-Code unter https://keras.io/examples/deep_dream/ darauf an."
   ]
  },
  {
   "cell_type": "code",
   "execution_count": null,
   "metadata": {},
   "outputs": [],
   "source": []
  },
  {
   "cell_type": "markdown",
   "metadata": {},
   "source": [
    "#### b) Wählen Sie zur Visualisierung den Output einer Conv-Layer aus, wenden Sie den DeepDream-Code an und diskutieren Sie das Ergebnis."
   ]
  },
  {
   "cell_type": "code",
   "execution_count": null,
   "metadata": {},
   "outputs": [],
   "source": []
  },
  {
   "cell_type": "markdown",
   "metadata": {
    "collapsed": true
   },
   "source": [
    "\n"
   ]
  },
  {
   "cell_type": "markdown",
   "metadata": {
    "collapsed": true
   },
   "source": [
    "# Aufgabe 2 - Fooling CNNs (3 + 8 Punkte)\n",
    "#### a)\tVerwenden Sie das bereits in Aufgabe 1 verwendete InceptionV3-Modell um das Bild \"ananas.jpg\" zu klassifizieren. Geben Sie den Klassennamen und die zugehörige Wahrscheinlichkeit aus. \n"
   ]
  },
  {
   "cell_type": "code",
   "execution_count": null,
   "metadata": {},
   "outputs": [],
   "source": []
  },
  {
   "cell_type": "markdown",
   "metadata": {},
   "source": [
    "#### b)\tFühren Sie minimale (für den Menschen nicht sichtbare) Änderungen an diesem Bild durch, so dass das Bild als \"Dobermann\" (id: 236) klassifiziert wird. Hinweis: Sie können hierfür den Gradient-Ascent Code aus Aufgabe 1 verwenden und den Loss entsprechend anpassen. "
   ]
  },
  {
   "cell_type": "code",
   "execution_count": null,
   "metadata": {},
   "outputs": [],
   "source": []
  }
 ],
 "metadata": {
  "kernelspec": {
   "display_name": "Python 3",
   "language": "python",
   "name": "python3"
  },
  "language_info": {
   "codemirror_mode": {
    "name": "ipython",
    "version": 3
   },
   "file_extension": ".py",
   "mimetype": "text/x-python",
   "name": "python",
   "nbconvert_exporter": "python",
   "pygments_lexer": "ipython3",
   "version": "3.7.3"
  }
 },
 "nbformat": 4,
 "nbformat_minor": 1
}
