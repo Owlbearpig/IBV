{
 "cells": [
  {
   "cell_type": "markdown",
   "metadata": {},
   "source": [
    "<h1><center>Übungszettel 6</center></h1>\n",
    "<h2><center>Inhaltsbasierte Bild- und Videoanalyse - SoSe 19</center></h2>\n",
    "<h3><center>Abgabe: Di. 02.07.2019 - 12:00 Uhr</center></h3>"
   ]
  },
  {
   "cell_type": "markdown",
   "metadata": {},
   "source": [
    "# CNNs in Tensorflow (2+3+4+3+3 Punkte)\n",
    "\n",
    "In dieser Aufgabe soll ein neuronales Netz zur Klassifizierung von Bildern basierend\n",
    "auf dem CIFAR-10-Datensatz (https://www.cs.toronto.edu/~kriz/cifar.html)realisiert werden. Dazu soll die Tensorflow API Keras (https://keras.io/) verwendet werden.\n",
    "\n",
    "Der Datensatz besteht aus einem Trainings- und einem Testdatensatz. "
   ]
  },
  {
   "cell_type": "code",
   "execution_count": 1,
   "metadata": {},
   "outputs": [
    {
     "name": "stderr",
     "output_type": "stream",
     "text": [
      "Using TensorFlow backend.\n"
     ]
    }
   ],
   "source": [
    "from __future__ import print_function\n",
    "# -*- coding: utf-8 -*-\n",
    "%matplotlib inline\n",
    "\n",
    "import numpy as np\n",
    "\n",
    "from keras.callbacks import EarlyStopping\n",
    "from keras.callbacks import ReduceLROnPlateau\n",
    "from keras.datasets import cifar10\n",
    "from keras.models import Sequential\n",
    "from keras.layers.core import Dense, Dropout, Flatten, Activation\n",
    "from keras.layers.convolutional import Conv2D, ZeroPadding2D\n",
    "from keras.optimizers import SGD\n",
    "from keras.layers.pooling import MaxPooling2D\n",
    "from keras.layers.normalization import BatchNormalization\n",
    "from keras.utils import to_categorical\n",
    "from keras.callbacks import TensorBoard\n",
    "\n",
    "np.random.seed(1000)"
   ]
  },
  {
   "cell_type": "markdown",
   "metadata": {},
   "source": [
    "### a)  Preprocessing (2 Punkte)\n",
    "Laden Sie zunächst die Trainings- und Testdaten des CIFAR-10 Dataset herunter. Nutzen Sie dafür `keras.datasets.cifar`. Berechnen Sie dann das Meanbild und ziehen es von den Bildern in den Datasets ab. Teilen Sie jeden Input-Wert durch 128.\n"
   ]
  },
  {
   "cell_type": "code",
   "execution_count": 2,
   "metadata": {},
   "outputs": [],
   "source": [
    "(x_train, y_train), (x_test, y_test) = cifar10.load_data()"
   ]
  },
  {
   "cell_type": "code",
   "execution_count": 3,
   "metadata": {},
   "outputs": [],
   "source": [
    "(x_train_og, y_train_og), (x_test_og, y_test_og) = cifar10.load_data()"
   ]
  },
  {
   "cell_type": "code",
   "execution_count": 4,
   "metadata": {},
   "outputs": [
    {
     "data": {
      "text/plain": [
       "((50000, 32, 32, 3), (50000, 1), (10000, 32, 32, 3), (10000, 1))"
      ]
     },
     "execution_count": 4,
     "metadata": {},
     "output_type": "execute_result"
    }
   ],
   "source": [
    "x_train.shape, y_train.shape, x_test.shape, y_test.shape"
   ]
  },
  {
   "cell_type": "code",
   "execution_count": 5,
   "metadata": {},
   "outputs": [
    {
     "data": {
      "text/plain": [
       "\"\\ny_train_mean_image = np.mean(y_train, axis=0, dtype='uint8')\\ny_test_mean_image = np.mean(y_test, axis=0, dtype='uint8')\\n\\ny_train -= y_train_mean_image\\ny_train = y_train / 128\\n\\ny_test -= y_test_mean_image\\ny_test = y_test / 128\\n\""
      ]
     },
     "execution_count": 5,
     "metadata": {},
     "output_type": "execute_result"
    }
   ],
   "source": [
    "import matplotlib.pyplot as plt\n",
    "\n",
    "x_train_mean_image = np.mean(x_train, axis=0, dtype='uint8')\n",
    "x_test_mean_image = np.mean(x_test, axis=0, dtype='uint8')\n",
    "\n",
    "x_train -= x_train_mean_image\n",
    "x_train = x_train / 128\n",
    "\n",
    "x_test -= x_test_mean_image\n",
    "x_test = x_test / 128\n",
    "\n",
    "\"\"\"\n",
    "y_train_mean_image = np.mean(y_train, axis=0, dtype='uint8')\n",
    "y_test_mean_image = np.mean(y_test, axis=0, dtype='uint8')\n",
    "\n",
    "y_train -= y_train_mean_image\n",
    "y_train = y_train / 128\n",
    "\n",
    "y_test -= y_test_mean_image\n",
    "y_test = y_test / 128\n",
    "\"\"\""
   ]
  },
  {
   "cell_type": "markdown",
   "metadata": {},
   "source": [
    "### b)  Netzwerkarchitektur entwerfen (3 Punkte)\n",
    "Erzeugen Sie nun eine Netzwerkarchitektur die für Bilder aus dem CIFAR-10 Dataset Wahrscheinlichkeiten für 10 Klassen vorhersagt. Bauen Sie das Modell nach folgenden folgende Vorgaben:\n",
    "* Convolutional Layer: Aktivierung: ReLU, Kernel: 3x3, Padding: 1\n",
    "* Pooling-Size: 2x2\n",
    "* Struktur:\n",
    "    - Input: 32x32x3\n",
    "    \n",
    "    - Convolution (32 Filter)\n",
    "    - Batch Normalization\n",
    "    - Convolution (64 Filter)\n",
    "    - Batch Normalization\n",
    "    - Max-Pooling\n",
    "    \n",
    "    - Convolution (128 Filter)\n",
    "    - Batch Normalization\n",
    "    - Max-Pooling\n",
    "    \n",
    "    - Convolution (128 Filter)\n",
    "    - Batch Normalization\n",
    "    - Max-Pooling\n",
    "    \n",
    "    - Fully-Connected (256 Neuronen)\n",
    "    - Dropout (0.5)\n",
    "    - Batch Normalization\n",
    "    - Fully-Connected, 10 Outputs, Softmax-Aktivierung\n",
    "    \n",
    "Geben Sie auch die Struktur des Modells mit `model.summary()` aus."
   ]
  },
  {
   "cell_type": "code",
   "execution_count": 6,
   "metadata": {},
   "outputs": [
    {
     "name": "stderr",
     "output_type": "stream",
     "text": [
      "WARNING: Logging before flag parsing goes to stderr.\n",
      "W0702 12:02:36.186821  7840 deprecation_wrapper.py:119] From e:\\pythons\\python37\\lib\\site-packages\\keras\\backend\\tensorflow_backend.py:74: The name tf.get_default_graph is deprecated. Please use tf.compat.v1.get_default_graph instead.\n",
      "\n",
      "W0702 12:02:36.199817  7840 deprecation_wrapper.py:119] From e:\\pythons\\python37\\lib\\site-packages\\keras\\backend\\tensorflow_backend.py:517: The name tf.placeholder is deprecated. Please use tf.compat.v1.placeholder instead.\n",
      "\n",
      "W0702 12:02:36.201817  7840 deprecation_wrapper.py:119] From e:\\pythons\\python37\\lib\\site-packages\\keras\\backend\\tensorflow_backend.py:4138: The name tf.random_uniform is deprecated. Please use tf.random.uniform instead.\n",
      "\n",
      "W0702 12:02:36.222811  7840 deprecation_wrapper.py:119] From e:\\pythons\\python37\\lib\\site-packages\\keras\\backend\\tensorflow_backend.py:174: The name tf.get_default_session is deprecated. Please use tf.compat.v1.get_default_session instead.\n",
      "\n",
      "W0702 12:02:36.223810  7840 deprecation_wrapper.py:119] From e:\\pythons\\python37\\lib\\site-packages\\keras\\backend\\tensorflow_backend.py:181: The name tf.ConfigProto is deprecated. Please use tf.compat.v1.ConfigProto instead.\n",
      "\n",
      "W0702 12:02:36.246807  7840 deprecation_wrapper.py:119] From e:\\pythons\\python37\\lib\\site-packages\\keras\\backend\\tensorflow_backend.py:1834: The name tf.nn.fused_batch_norm is deprecated. Please use tf.compat.v1.nn.fused_batch_norm instead.\n",
      "\n",
      "W0702 12:02:36.362769  7840 deprecation_wrapper.py:119] From e:\\pythons\\python37\\lib\\site-packages\\keras\\backend\\tensorflow_backend.py:3976: The name tf.nn.max_pool is deprecated. Please use tf.nn.max_pool2d instead.\n",
      "\n",
      "W0702 12:02:36.555711  7840 deprecation.py:506] From e:\\pythons\\python37\\lib\\site-packages\\keras\\backend\\tensorflow_backend.py:3445: calling dropout (from tensorflow.python.ops.nn_ops) with keep_prob is deprecated and will be removed in a future version.\n",
      "Instructions for updating:\n",
      "Please use `rate` instead of `keep_prob`. Rate should be set to `rate = 1 - keep_prob`.\n"
     ]
    },
    {
     "name": "stdout",
     "output_type": "stream",
     "text": [
      "_________________________________________________________________\n",
      "Layer (type)                 Output Shape              Param #   \n",
      "=================================================================\n",
      "conv2d_1 (Conv2D)            (None, 30, 30, 32)        896       \n",
      "_________________________________________________________________\n",
      "batch_normalization_1 (Batch (None, 30, 30, 32)        128       \n",
      "_________________________________________________________________\n",
      "conv2d_2 (Conv2D)            (None, 28, 28, 64)        18496     \n",
      "_________________________________________________________________\n",
      "batch_normalization_2 (Batch (None, 28, 28, 64)        256       \n",
      "_________________________________________________________________\n",
      "max_pooling2d_1 (MaxPooling2 (None, 14, 14, 64)        0         \n",
      "_________________________________________________________________\n",
      "conv2d_3 (Conv2D)            (None, 12, 12, 128)       73856     \n",
      "_________________________________________________________________\n",
      "batch_normalization_3 (Batch (None, 12, 12, 128)       512       \n",
      "_________________________________________________________________\n",
      "max_pooling2d_2 (MaxPooling2 (None, 6, 6, 128)         0         \n",
      "_________________________________________________________________\n",
      "conv2d_4 (Conv2D)            (None, 4, 4, 128)         147584    \n",
      "_________________________________________________________________\n",
      "batch_normalization_4 (Batch (None, 4, 4, 128)         512       \n",
      "_________________________________________________________________\n",
      "max_pooling2d_3 (MaxPooling2 (None, 2, 2, 128)         0         \n",
      "_________________________________________________________________\n",
      "flatten_1 (Flatten)          (None, 512)               0         \n",
      "_________________________________________________________________\n",
      "dense_1 (Dense)              (None, 256)               131328    \n",
      "_________________________________________________________________\n",
      "activation_1 (Activation)    (None, 256)               0         \n",
      "_________________________________________________________________\n",
      "batch_normalization_5 (Batch (None, 256)               1024      \n",
      "_________________________________________________________________\n",
      "dropout_1 (Dropout)          (None, 256)               0         \n",
      "_________________________________________________________________\n",
      "dense_2 (Dense)              (None, 10)                2570      \n",
      "=================================================================\n",
      "Total params: 377,162\n",
      "Trainable params: 375,946\n",
      "Non-trainable params: 1,216\n",
      "_________________________________________________________________\n"
     ]
    }
   ],
   "source": [
    "y_train = to_categorical(y_train, 10)\n",
    "y_test = to_categorical(y_test, 10)\n",
    "\n",
    "# Create the model\n",
    "model = Sequential()\n",
    "model.add(Conv2D(32, kernel_size=3, activation='relu', input_shape=(32,32,3)))\n",
    "model.add(BatchNormalization())\n",
    "model.add(Conv2D(64, kernel_size=3, activation='relu'))\n",
    "model.add(BatchNormalization())\n",
    "model.add(MaxPooling2D(pool_size=(2, 2)))\n",
    "model.add(Conv2D(128, kernel_size=3, activation='relu'))\n",
    "model.add(BatchNormalization())\n",
    "model.add(MaxPooling2D(pool_size=(2, 2)))\n",
    "model.add(Conv2D(128, kernel_size=3, activation='relu'))\n",
    "model.add(BatchNormalization())\n",
    "model.add(MaxPooling2D(pool_size=(2, 2)))\n",
    "model.add(Flatten())\n",
    "model.add(Dense(256))\n",
    "model.add(Activation(\"relu\"))\n",
    "model.add(BatchNormalization())\n",
    "model.add(Dropout(0.5))\n",
    "model.add(Dense(10, activation='softmax'))\n",
    "\n",
    "model.summary()"
   ]
  },
  {
   "cell_type": "markdown",
   "metadata": {},
   "source": [
    "### c)  Training (4 Punkte)\n",
    "Trainieren Sie nun das Netz mit Stochastic Gradient Descent auf dem Trainingsdatensatz.\n",
    "Nutzen Sie dafür das Nesterov Verfahren und setzen Sie sinnvolle Werte für Batchsize und Startlernrate.\n",
    "\n",
    "Verwenden Sie Callbacks für TensorBoard (mit Bildern und Graph) und ReduceLROnPlateau (mögliche Werte: factor=0.1, patience=3, min_delta=0.001, min_lr=0.0001). \n",
    "Trainieren Sie das Modell für mindestens 10 Epochen. Nach etwa 50-100 Epochen sollten Sie gute Ergebnisse erhalten.\n",
    "Binden Sie ein Bild der Losskurve in dieses Notebook ein.\n",
    "Vergessen Sie nicht, das Modell zu speichern. Fügen Sie das gespeicherte (finale) Modell ihrer Abgabe hinzu."
   ]
  },
  {
   "cell_type": "code",
   "execution_count": 7,
   "metadata": {},
   "outputs": [
    {
     "name": "stderr",
     "output_type": "stream",
     "text": [
      "W0702 12:02:36.597699  7840 deprecation_wrapper.py:119] From e:\\pythons\\python37\\lib\\site-packages\\keras\\optimizers.py:790: The name tf.train.Optimizer is deprecated. Please use tf.compat.v1.train.Optimizer instead.\n",
      "\n"
     ]
    },
    {
     "name": "stdout",
     "output_type": "stream",
     "text": [
      "Train on 50000 samples, validate on 10000 samples\n"
     ]
    },
    {
     "name": "stderr",
     "output_type": "stream",
     "text": [
      "W0702 12:02:38.219213  7840 deprecation_wrapper.py:119] From e:\\pythons\\python37\\lib\\site-packages\\keras\\callbacks.py:796: The name tf.summary.histogram is deprecated. Please use tf.compat.v1.summary.histogram instead.\n",
      "\n",
      "W0702 12:02:38.225211  7840 deprecation_wrapper.py:119] From e:\\pythons\\python37\\lib\\site-packages\\keras\\callbacks.py:840: The name tf.summary.image is deprecated. Please use tf.compat.v1.summary.image instead.\n",
      "\n",
      "W0702 12:02:38.326181  7840 deprecation_wrapper.py:119] From e:\\pythons\\python37\\lib\\site-packages\\keras\\callbacks.py:850: The name tf.summary.merge_all is deprecated. Please use tf.compat.v1.summary.merge_all instead.\n",
      "\n",
      "W0702 12:02:38.329180  7840 deprecation_wrapper.py:119] From e:\\pythons\\python37\\lib\\site-packages\\keras\\callbacks.py:853: The name tf.summary.FileWriter is deprecated. Please use tf.compat.v1.summary.FileWriter instead.\n",
      "\n"
     ]
    },
    {
     "name": "stdout",
     "output_type": "stream",
     "text": [
      "Epoch 1/10\n",
      "50000/50000 [==============================] - 298s 6ms/step - loss: 0.0839 - val_loss: 0.0648\n",
      "Epoch 2/10\n",
      "50000/50000 [==============================] - 292s 6ms/step - loss: 0.0648 - val_loss: 0.0545\n",
      "Epoch 3/10\n",
      "50000/50000 [==============================] - 291s 6ms/step - loss: 0.0560 - val_loss: 0.0512\n",
      "Epoch 4/10\n",
      "50000/50000 [==============================] - 290s 6ms/step - loss: 0.0502 - val_loss: 0.0485\n",
      "Epoch 5/10\n",
      "50000/50000 [==============================] - 280s 6ms/step - loss: 0.0464 - val_loss: 0.0439\n",
      "Epoch 6/10\n",
      "50000/50000 [==============================] - 276s 6ms/step - loss: 0.0433 - val_loss: 0.0408\n",
      "Epoch 7/10\n",
      "50000/50000 [==============================] - 281s 6ms/step - loss: 0.0407 - val_loss: 0.0397\n",
      "Epoch 8/10\n",
      "50000/50000 [==============================] - 275s 6ms/step - loss: 0.0386 - val_loss: 0.0393\n",
      "Epoch 9/10\n",
      "50000/50000 [==============================] - 278s 6ms/step - loss: 0.0367 - val_loss: 0.0374\n",
      "Epoch 10/10\n",
      "50000/50000 [==============================] - 274s 5ms/step - loss: 0.0351 - val_loss: 0.0375\n"
     ]
    }
   ],
   "source": [
    "from keras import optimizers\n",
    "\n",
    "sgd = optimizers.SGD(lr=0.01, decay=1e-6, momentum=0.9, nesterov=True)\n",
    "model.compile(loss='mean_squared_error', optimizer=sgd)\n",
    "\n",
    "tbCallBack = TensorBoard(log_dir='./Graph', histogram_freq=1, write_graph=True, write_images=True)\n",
    "reduce_lr = ReduceLROnPlateau(monitor='val_loss', factor=0.1, patience=3, min_lr=0.0001, min_delta=0.001, verbose=1)\n",
    "\n",
    "model.fit(x_train, y_train,\n",
    "          batch_size=32,\n",
    "          epochs=10,\n",
    "          verbose=1,\n",
    "          validation_data=(x_test, y_test), \n",
    "          callbacks=[tbCallBack, reduce_lr])\n",
    "\n",
    "model.save('CNN.h5')"
   ]
  },
  {
   "cell_type": "markdown",
   "metadata": {
    "collapsed": true
   },
   "source": [
    "### c)  Testen (3 Punkte)\n",
    "Laden Sie das zuvor trainierte Modell. Evaluieren Sie nun das Modell auf den Testdaten.  "
   ]
  },
  {
   "cell_type": "code",
   "execution_count": 8,
   "metadata": {},
   "outputs": [
    {
     "name": "stdout",
     "output_type": "stream",
     "text": [
      "10000/10000 [==============================] - 14s 1ms/step\n",
      "Test accuracy: 0.037474050933122637\n"
     ]
    }
   ],
   "source": [
    "from keras.models import load_model\n",
    "\n",
    "model = load_model('CNN.h5')\n",
    "\n",
    "loss = model.evaluate(x_test, y_test, batch_size=32)\n",
    "\n",
    "print('Test loss:', loss)"
   ]
  },
  {
   "cell_type": "markdown",
   "metadata": {},
   "source": [
    "### d)  Anwenden (3 Punkte)\n",
    "Laden Sie das zuvor trainierte Modell. Wenden Sie das Modell auf 10 zufällig ausgewählte Bilder aus dem Testdatensatz an. Visualisieren Sie die Ergebnisse. Geben Sie dazu das Bild aus und die vorhergesagte Wahrscheinlichkeite für jede der 10 Klassen."
   ]
  },
  {
   "cell_type": "code",
   "execution_count": 9,
   "metadata": {},
   "outputs": [
    {
     "name": "stdout",
     "output_type": "stream",
     "text": [
      "10/10 [==============================] - 0s 14ms/step\n",
      "predicted probability: [5.3668435e-04 9.6349693e-05 3.1125488e-05 5.6250609e-04 6.0787715e-04\n",
      " 7.7480688e-03 3.8745424e-05 9.8793864e-01 1.7243836e-05 2.4227740e-03]\n"
     ]
    },
    {
     "data": {
      "image/png": "[encoded data removed]",
      "text/plain": [
       "<Figure size 432x288 with 1 Axes>"
      ]
     },
     "metadata": {
      "needs_background": "light"
     },
     "output_type": "display_data"
    },
    {
     "name": "stdout",
     "output_type": "stream",
     "text": [
      "\n",
      "predicted probability: [8.2022663e-05 2.2327884e-03 4.0149558e-07 3.8541959e-05 3.3029546e-06\n",
      " 2.6848709e-04 3.5116289e-05 3.5539040e-05 1.9955434e-05 9.9728382e-01]\n"
     ]
    },
    {
     "data": {
      "image/png": "[encoded data removed]",
      "text/plain": [
       "<Figure size 432x288 with 1 Axes>"
      ]
     },
     "metadata": {
      "needs_background": "light"
     },
     "output_type": "display_data"
    },
    {
     "name": "stdout",
     "output_type": "stream",
     "text": [
      "\n",
      "predicted probability: [0.33008832 0.03452847 0.00139274 0.04719206 0.0054895  0.03011356\n",
      " 0.00185788 0.00275849 0.44708207 0.09949691]\n"
     ]
    },
    {
     "data": {
      "image/png": "[encoded data removed]",
      "text/plain": [
       "<Figure size 432x288 with 1 Axes>"
      ]
     },
     "metadata": {
      "needs_background": "light"
     },
     "output_type": "display_data"
    },
    {
     "name": "stdout",
     "output_type": "stream",
     "text": [
      "\n",
      "predicted probability: [3.2572374e-03 5.6985527e-04 1.1520165e-02 5.7855773e-01 1.6124746e-02\n",
      " 2.4632417e-01 7.7318788e-02 5.8745321e-02 1.6669739e-03 5.9151151e-03]\n"
     ]
    },
    {
     "data": {
      "image/png": "[encoded data removed]",
      "text/plain": [
       "<Figure size 432x288 with 1 Axes>"
      ]
     },
     "metadata": {
      "needs_background": "light"
     },
     "output_type": "display_data"
    },
    {
     "name": "stdout",
     "output_type": "stream",
     "text": [
      "\n",
      "predicted probability: [2.3743303e-03 5.9892228e-03 6.9339178e-05 3.5480689e-03 8.7131874e-04\n",
      " 5.4710254e-04 1.3416029e-03 8.1161555e-04 1.8873695e-02 9.6557373e-01]\n"
     ]
    },
    {
     "data": {
      "image/png": "[encoded data removed]",
      "text/plain": [
       "<Figure size 432x288 with 1 Axes>"
      ]
     },
     "metadata": {
      "needs_background": "light"
     },
     "output_type": "display_data"
    },
    {
     "name": "stdout",
     "output_type": "stream",
     "text": [
      "\n",
      "predicted probability: [2.8647878e-03 1.7812444e-02 1.0223482e-02 5.7203649e-04 3.3312280e-02\n",
      " 4.1051891e-02 2.8157656e-03 8.8807952e-01 1.9158474e-04 3.0761694e-03]\n"
     ]
    },
    {
     "data": {
      "image/png": "[encoded data removed]",
      "text/plain": [
       "<Figure size 432x288 with 1 Axes>"
      ]
     },
     "metadata": {
      "needs_background": "light"
     },
     "output_type": "display_data"
    },
    {
     "name": "stdout",
     "output_type": "stream",
     "text": [
      "\n",
      "predicted probability: [0.01007134 0.00053046 0.02848075 0.48292103 0.01705514 0.3723021\n",
      " 0.0062042  0.04817377 0.03303422 0.00122698]\n"
     ]
    },
    {
     "data": {
      "image/png": "[encoded data removed]",
      "text/plain": [
       "<Figure size 432x288 with 1 Axes>"
      ]
     },
     "metadata": {
      "needs_background": "light"
     },
     "output_type": "display_data"
    },
    {
     "name": "stdout",
     "output_type": "stream",
     "text": [
      "\n",
      "predicted probability: [5.60048223e-02 6.45741180e-04 9.20170825e-03 2.59167373e-01\n",
      " 6.87781023e-03 1.16102606e-01 3.49273003e-04 8.58735964e-02\n",
      " 6.32568169e-03 4.59451318e-01]\n"
     ]
    },
    {
     "data": {
      "image/png": "[encoded data removed]",
      "text/plain": [
       "<Figure size 432x288 with 1 Axes>"
      ]
     },
     "metadata": {
      "needs_background": "light"
     },
     "output_type": "display_data"
    },
    {
     "name": "stdout",
     "output_type": "stream",
     "text": [
      "\n",
      "predicted probability: [7.7112787e-04 4.3068940e-04 3.0078064e-03 3.2544095e-02 7.1077514e-03\n",
      " 5.9027725e-01 2.6099649e-04 3.6426938e-01 3.1267096e-05 1.2996822e-03]\n"
     ]
    },
    {
     "data": {
      "image/png": "[encoded data removed]",
      "text/plain": [
       "<Figure size 432x288 with 1 Axes>"
      ]
     },
     "metadata": {
      "needs_background": "light"
     },
     "output_type": "display_data"
    },
    {
     "name": "stdout",
     "output_type": "stream",
     "text": [
      "\n",
      "predicted probability: [3.8291435e-04 1.5826861e-03 3.6033827e-05 1.4552368e-04 4.4165316e-04\n",
      " 3.0431886e-05 1.3005449e-05 9.9653268e-01 3.6440819e-05 7.9854968e-04]\n"
     ]
    },
    {
     "data": {
      "image/png": "[encoded data removed]",
      "text/plain": [
       "<Figure size 432x288 with 1 Axes>"
      ]
     },
     "metadata": {
      "needs_background": "light"
     },
     "output_type": "display_data"
    },
    {
     "name": "stdout",
     "output_type": "stream",
     "text": [
      "\n"
     ]
    }
   ],
   "source": [
    "indices = np.array(np.random.uniform(0,10000,(10)), dtype=np.int)\n",
    "rand_10_pics = x_test[indices]\n",
    "\n",
    "original_x_test_random_10 = x_test_og[indices]\n",
    "\n",
    "predicted_probs = model.predict(rand_10_pics, batch_size=10, verbose=1)\n",
    "\n",
    "for i in range(len(rand_10_pics)):\n",
    "    print(\"predicted probability:\", predicted_probs[i])\n",
    "    plt.imshow(np.array(original_x_test_random_10[i], np.int))\n",
    "    plt.show()\n",
    "    print()\n",
    "\n",
    "    "
   ]
  },
  {
   "cell_type": "code",
   "execution_count": null,
   "metadata": {},
   "outputs": [],
   "source": []
  }
 ],
 "metadata": {
  "kernelspec": {
   "display_name": "Python 3",
   "language": "python",
   "name": "python3"
  },
  "language_info": {
   "codemirror_mode": {
    "name": "ipython",
    "version": 3
   },
   "file_extension": ".py",
   "mimetype": "text/x-python",
   "name": "python",
   "nbconvert_exporter": "python",
   "pygments_lexer": "ipython3",
   "version": "3.7.2"
  }
 },
 "nbformat": 4,
 "nbformat_minor": 1
}
