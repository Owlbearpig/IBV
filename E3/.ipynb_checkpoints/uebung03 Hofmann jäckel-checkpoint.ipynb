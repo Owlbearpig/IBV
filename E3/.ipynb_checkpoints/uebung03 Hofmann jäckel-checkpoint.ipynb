{
 "cells": [
  {
   "cell_type": "markdown",
   "metadata": {},
   "source": [
    "### <h2><center>Inhaltsbasierte Bild- und Videoanalyse - SoSe 19</center></h2> <h1><center>Übungszettel 3</center></h1> <h2><center>Abgabe: So. 19.05.2018 - 23:59 Uhr</center></h2>  Hinweis: Alle Lösungen sollen in einem IPython Notebook realisiert werden, wobei Teilaufgaben und Zwischenergebnisse ausgegeben bzw. visualisiert werden sollen. Die Übungszettel sollen in Gruppen von 3 Personen abgegeben werden. Die Datei soll nach folgendem Muster benannt werden: uebung03 {nachname1} {nachname2} {nachname3}.ipynb  Für eine Einleitung in IPython siehe z.B.: http://cs231n.github.io/ipython-tutorial/"
   ]
  },
  {
   "cell_type": "markdown",
   "metadata": {},
   "source": [
    "# Aufgabe 1 - Machine Learning, Definitions, Algorithms (1+1+2 Punkte)\n",
    "\n",
    "## Aufgabe 1.1: Machine Learning Definition (1 Punkt)\n",
    "\n",
    "#### Welche der folgenden Aussagen ist eine sinnvolle Definition für maschinelles Lernen?\n",
    "a) Maschinelles Lernen ist die Wissenschaft der Computerprogrammierung.\n",
    "\n",
    "b) Maschinelles Lernen ist der Forschungsbereich, der Computern die Fähigkeit vermittelt\n",
    "zu lernen ohne explizit programmiert zu werden.\n",
    "\n",
    "c) Maschinelles Lernen ist der Forschungsbereich, der Robotern erlaubt intelligent zu han-\n",
    "deln.\n",
    "\n",
    "d) Maschinelles Lernen nutzt “gelabelte” Daten zum Lernen.\n"
   ]
  },
  {
   "cell_type": "markdown",
   "metadata": {},
   "source": []
  },
  {
   "cell_type": "markdown",
   "metadata": {},
   "source": [
    "## Aufgabe 1.2: Classification, Regression (1 Punkt)\n",
    "\n",
    "#### Die folgenden Aufgaben sollen mit Machine Learning gelöst werden. Handelt es sich dabei jeweils um ein Regressions- oder Klassifikationsproblem?\n",
    "\n",
    "a) Angenommen Sie beschäftigen sich mit dem Problem der Wettervorhersage und wollen\n",
    "vorhersagen ob es morgen um 17:00 Uhr regnen wird.\n",
    "\n",
    "b) Gegeben sind Bilder mit Gesichtern und das Alter der darauf gezeigten Person soll geschätzt\n",
    "werden.\n"
   ]
  },
  {
   "cell_type": "markdown",
   "metadata": {},
   "source": []
  },
  {
   "cell_type": "markdown",
   "metadata": {},
   "source": [
    "## Aufgabe 1.3: Supervised vs. unsupervised Learning (2 Punkt)\n",
    "\n",
    "#### Auf welche der folgenden Probleme würden Sie ein überwachtes Lernverfahren anwenden? Gehen Sie davon aus, dass die jeweils benötigten Trainingsdaten vorhanden sind.\n",
    "\n",
    "a) Take a collection of 1000 essays written on the US Economy, and find a way to auto-\n",
    "matically group these essays into a small number of groups of essays that are somehow\n",
    "”similar” or ”related”.\n",
    "\n",
    "b) Examine the statistics of two football teams, and predicting which team will win tomor-\n",
    "row’s match (given historical data of teams’ wins/losses to learn from).\n",
    "\n",
    "c) Examine a large collection of emails that are known to be spam email, to discover if there\n",
    "are sub-types of spam mail.\n",
    "\n",
    "d) Given genetic (DNA) data from a person, predict the odds of him/her developing diabetes\n",
    "over the next 10 years."
   ]
  },
  {
   "cell_type": "markdown",
   "metadata": {
    "collapsed": true
   },
   "source": []
  },
  {
   "cell_type": "markdown",
   "metadata": {
    "collapsed": true
   },
   "source": [
    "#### Aufgabe 2 - CIFAR-10 (4 Punkte)\n",
    "\n",
    "#### a) Laden Sie die Python-Version von CIFAR-10 herunter (https://www.cs.toronto.edu/~kriz/cifar.html) und machen sie sich mit dem Interface vertraut."
   ]
  },
  {
   "cell_type": "code",
   "execution_count": 30,
   "metadata": {},
   "outputs": [],
   "source": [
    "import numpy as np\n",
    "\n",
    "def unpickle(file):\n",
    "    import pickle\n",
    "    with open(file, 'rb') as fo:\n",
    "        dict = pickle.load(fo, encoding='bytes')\n",
    "    return dict\n",
    "\n",
    "meta = unpickle('./cifar-10/batches.meta');\n",
    "batch_1 = unpickle('./cifar-10/data_batch_1');\n"
   ]
  },
  {
   "cell_type": "markdown",
   "metadata": {},
   "source": [
    "#### b) Visualisieren Sie ein zufälliges Bild aus jeder Klasse."
   ]
  },
  {
   "cell_type": "code",
   "execution_count": 38,
   "metadata": {},
   "outputs": [
    {
     "name": "stdout",
     "output_type": "stream",
     "text": [
      "1024\n"
     ]
    },
    {
     "ename": "NameError",
     "evalue": "name 'fig' is not defined",
     "output_type": "error",
     "traceback": [
      "\u001b[0;31m---------------------------------------------------------------------------\u001b[0m",
      "\u001b[0;31mNameError\u001b[0m                                 Traceback (most recent call last)",
      "\u001b[0;32m<ipython-input-38-799c33b08287>\u001b[0m in \u001b[0;36m<module>\u001b[0;34m\u001b[0m\n\u001b[1;32m     20\u001b[0m \u001b[0;34m\u001b[0m\u001b[0m\n\u001b[1;32m     21\u001b[0m \u001b[0;32mfor\u001b[0m \u001b[0mi\u001b[0m \u001b[0;32min\u001b[0m \u001b[0mrange\u001b[0m\u001b[0;34m(\u001b[0m\u001b[0mlen\u001b[0m\u001b[0;34m(\u001b[0m\u001b[0mmeta\u001b[0m\u001b[0;34m[\u001b[0m\u001b[0;34mb'label_names'\u001b[0m\u001b[0;34m]\u001b[0m\u001b[0;34m)\u001b[0m\u001b[0;34m)\u001b[0m\u001b[0;34m:\u001b[0m\u001b[0;34m\u001b[0m\u001b[0;34m\u001b[0m\u001b[0m\n\u001b[0;32m---> 22\u001b[0;31m     \u001b[0mvisualizeImage\u001b[0m\u001b[0;34m(\u001b[0m\u001b[0mbatch_1\u001b[0m\u001b[0;34m[\u001b[0m\u001b[0;34mb'data'\u001b[0m\u001b[0;34m]\u001b[0m\u001b[0;34m[\u001b[0m\u001b[0mbatch_1\u001b[0m\u001b[0;34m[\u001b[0m\u001b[0;34mb'labels'\u001b[0m\u001b[0;34m]\u001b[0m\u001b[0;34m.\u001b[0m\u001b[0mindex\u001b[0m\u001b[0;34m(\u001b[0m\u001b[0mi\u001b[0m\u001b[0;34m)\u001b[0m\u001b[0;34m]\u001b[0m\u001b[0;34m,\u001b[0m\u001b[0mmeta\u001b[0m\u001b[0;34m[\u001b[0m\u001b[0;34mb'label_names'\u001b[0m\u001b[0;34m]\u001b[0m\u001b[0;34m[\u001b[0m\u001b[0mi\u001b[0m\u001b[0;34m]\u001b[0m\u001b[0;34m)\u001b[0m\u001b[0;34m\u001b[0m\u001b[0;34m\u001b[0m\u001b[0m\n\u001b[0m",
      "\u001b[0;32m<ipython-input-38-799c33b08287>\u001b[0m in \u001b[0;36mvisualizeImage\u001b[0;34m(data, label_name)\u001b[0m\n\u001b[1;32m     16\u001b[0m \u001b[0;34m\u001b[0m\u001b[0m\n\u001b[1;32m     17\u001b[0m     \u001b[0mplt\u001b[0m\u001b[0;34m.\u001b[0m\u001b[0mfigure\u001b[0m\u001b[0;34m(\u001b[0m\u001b[0;34m)\u001b[0m\u001b[0;34m\u001b[0m\u001b[0;34m\u001b[0m\u001b[0m\n\u001b[0;32m---> 18\u001b[0;31m     \u001b[0mfig\u001b[0m\u001b[0;34m.\u001b[0m\u001b[0msuptitle\u001b[0m\u001b[0;34m(\u001b[0m\u001b[0mlabel_name\u001b[0m\u001b[0;34m,\u001b[0m \u001b[0mfontsize\u001b[0m\u001b[0;34m=\u001b[0m\u001b[0;36m12\u001b[0m\u001b[0;34m)\u001b[0m\u001b[0;34m\u001b[0m\u001b[0;34m\u001b[0m\u001b[0m\n\u001b[0m\u001b[1;32m     19\u001b[0m     \u001b[0mplt\u001b[0m\u001b[0;34m.\u001b[0m\u001b[0mimshow\u001b[0m\u001b[0;34m(\u001b[0m\u001b[0mimg\u001b[0m\u001b[0;34m)\u001b[0m\u001b[0;34m\u001b[0m\u001b[0;34m\u001b[0m\u001b[0m\n\u001b[1;32m     20\u001b[0m \u001b[0;34m\u001b[0m\u001b[0m\n",
      "\u001b[0;31mNameError\u001b[0m: name 'fig' is not defined"
     ]
    },
    {
     "data": {
      "text/plain": [
       "<Figure size 432x288 with 0 Axes>"
      ]
     },
     "metadata": {},
     "output_type": "display_data"
    }
   ],
   "source": [
    "import PIL\n",
    "import matplotlib.pyplot as plt\n",
    "\n",
    "def visualizeImage(data, label_name = \"\"):\n",
    "    img_r = data[0:1024]\n",
    "    img_g = data[1024:2048]\n",
    "    img_b = data[2048:3072]\n",
    "    \n",
    "    img_data = list(zip(img_r,img_g,img_b))\n",
    "    \n",
    "    print(len(img_data));\n",
    "    \n",
    "    img = PIL.Image.new('RGB', (32,32));\n",
    "    img.putdata(img_data)\n",
    "    #img = PIL.Image.fromarray(img_data, 'RGB');\n",
    "\n",
    "    fiiplt.figure()\n",
    "    fig.suptitle(label_name, fontsize=12)\n",
    "    plt.imshow(img)\n",
    "\n",
    "for i in range(len(meta[b'label_names'])):\n",
    "    visualizeImage(batch_1[b'data'][batch_1[b'labels'].index(i)],meta[b'label_names'][i])"
   ]
  },
  {
   "cell_type": "code",
   "execution_count": null,
   "metadata": {},
   "outputs": [],
   "source": []
  }
 ],
 "metadata": {
  "kernelspec": {
   "display_name": "Python 3",
   "language": "python",
   "name": "python3"
  },
  "language_info": {
   "codemirror_mode": {
    "name": "ipython",
    "version": 3
   },
   "file_extension": ".py",
   "mimetype": "text/x-python",
   "name": "python",
   "nbconvert_exporter": "python",
   "pygments_lexer": "ipython3",
   "version": "3.7.2"
  }
 },
 "nbformat": 4,
 "nbformat_minor": 1
}
