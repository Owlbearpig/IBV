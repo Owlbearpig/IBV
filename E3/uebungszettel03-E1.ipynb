{
 "cells": [
  {
   "cell_type": "markdown",
   "metadata": {},
   "source": [
    "### <h2><center>Inhaltsbasierte Bild- und Videoanalyse - SoSe 19</center></h2> <h1><center>Übungszettel 3</center></h1> <h2><center>Abgabe: So. 19.05.2018 - 23:59 Uhr</center></h2>  Hinweis: Alle Lösungen sollen in einem IPython Notebook realisiert werden, wobei Teilaufgaben und Zwischenergebnisse ausgegeben bzw. visualisiert werden sollen. Die Übungszettel sollen in Gruppen von 3 Personen abgegeben werden. Die Datei soll nach folgendem Muster benannt werden: uebung03 {nachname1} {nachname2} {nachname3}.ipynb  Für eine Einleitung in IPython siehe z.B.: http://cs231n.github.io/ipython-tutorial/"
   ]
  },
  {
   "cell_type": "markdown",
   "metadata": {},
   "source": [
    "# Aufgabe 1 - Machine Learning, Definitions, Algorithms (1+1+2 Punkte)\n",
    "\n",
    "## Aufgabe 1.1: Machine Learning Definition (1 Punkt)\n",
    "\n",
    "#### Welche der folgenden Aussagen ist eine sinnvolle Definition für maschinelles Lernen?\n",
    "a) Maschinelles Lernen ist die Wissenschaft der Computerprogrammierung.\n",
    "\n",
    "b) Maschinelles Lernen ist der Forschungsbereich, der Computern die Fähigkeit vermittelt\n",
    "zu lernen ohne explizit programmiert zu werden.\n",
    "\n",
    "c) Maschinelles Lernen ist der Forschungsbereich, der Robotern erlaubt intelligent zu han-\n",
    "deln.\n",
    "\n",
    "d) Maschinelles Lernen nutzt “gelabelte” Daten zum Lernen.\n"
   ]
  },
  {
   "cell_type": "markdown",
   "metadata": {},
   "source": [
    "$b)$ Maschinelles Lernen ist der Forschungsbereich, der Computern die Fähigkeit vermittelt zu lernen ohne explizit programmiert zu werden."
   ]
  },
  {
   "cell_type": "markdown",
   "metadata": {},
   "source": [
    "## Aufgabe 1.2: Classification, Regression (1 Punkt)\n",
    "\n",
    "#### Die folgenden Aufgaben sollen mit Machine Learning gelöst werden. Handelt es sich dabei jeweils um ein Regressions- oder Klassifikationsproblem?\n",
    "\n",
    "a) Angenommen Sie beschäftigen sich mit dem Problem der Wettervorhersage und wollen\n",
    "vorhersagen ob es morgen um 17:00 Uhr regnen wird.\n",
    "\n",
    "b) Gegeben sind Bilder mit Gesichtern und das Alter der darauf gezeigten Person soll geschätzt\n",
    "werden.\n"
   ]
  },
  {
   "cell_type": "markdown",
   "metadata": {},
   "source": [
    "$a)$ Klassifikationsproblem, Label wäre Regen oder kein Regen. Diskreter output \n",
    "\n",
    "$b)$ Regressionsproblem, da das Alter alle Werte in einem Interval annehmen kann beliebig genau."
   ]
  },
  {
   "cell_type": "markdown",
   "metadata": {},
   "source": [
    "## Aufgabe 1.3: Supervised vs. unsupervised Learning (2 Punkt)\n",
    "\n",
    "#### Auf welche der folgenden Probleme würden Sie ein überwachtes Lernverfahren anwenden? Gehen Sie davon aus, dass die jeweils benötigten Trainingsdaten vorhanden sind.\n",
    "\n",
    "a) Take a collection of 1000 essays written on the US Economy, and find a way to auto-\n",
    "matically group these essays into a small number of groups of essays that are somehow\n",
    "”similar” or ”related”.\n",
    "\n",
    "b) Examine the statistics of two football teams, and predicting which team will win tomor-\n",
    "row’s match (given historical data of teams’ wins/losses to learn from).\n",
    "\n",
    "c) Examine a large collection of emails that are known to be spam email, to discover if there\n",
    "are sub-types of spam mail.\n",
    "\n",
    "d) Given genetic (DNA) data from a person, predict the odds of him/her developing diabetes\n",
    "over the next 10 years."
   ]
  },
  {
   "cell_type": "markdown",
   "metadata": {
    "collapsed": true
   },
   "source": [
    "Supervised:\n",
    "\n",
    "$b)$ weil da eine groundtruth gegeben ist und die training Daten gelabeld sind\n",
    "\n",
    "$d)$ das ist ein regressions Problem. Man könnte es mit DNA sequenzen tränieren die mit diabetes oder nicht diabetes gelabeld sind.\n",
    "\n",
    "Unsupervised:\n",
    "\n",
    "$a), c)$ sind clustering Probleme"
   ]
  },
  {
   "cell_type": "markdown",
   "metadata": {
    "collapsed": true
   },
   "source": [
    "#### Aufgabe 2 - CIFAR-10 (4 Punkte)\n",
    "\n",
    "#### a) Laden Sie die Python-Version von CIFAR-10 herunter (https://www.cs.toronto.edu/~kriz/cifar.html) und machen sie sich mit dem Interface vertraut."
   ]
  },
  {
   "cell_type": "code",
   "execution_count": null,
   "metadata": {},
   "outputs": [],
   "source": []
  },
  {
   "cell_type": "markdown",
   "metadata": {},
   "source": [
    "#### b) Visualisieren Sie ein zufälliges Bild aus jeder Klasse."
   ]
  },
  {
   "cell_type": "code",
   "execution_count": null,
   "metadata": {},
   "outputs": [],
   "source": []
  }
 ],
 "metadata": {
  "kernelspec": {
   "display_name": "Python 3",
   "language": "python",
   "name": "python3"
  },
  "language_info": {
   "codemirror_mode": {
    "name": "ipython",
    "version": 3
   },
   "file_extension": ".py",
   "mimetype": "text/x-python",
   "name": "python",
   "nbconvert_exporter": "python",
   "pygments_lexer": "ipython3",
   "version": "3.7.2"
  }
 },
 "nbformat": 4,
 "nbformat_minor": 1
}
