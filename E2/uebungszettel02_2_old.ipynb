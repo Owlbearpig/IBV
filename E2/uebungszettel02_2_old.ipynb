{
 "cells": [
  {
   "cell_type": "markdown",
   "metadata": {},
   "source": [
    "<h2><center>Inhaltsbasierte Bild- und Videoanalyse - SoSe 19</center></h2>\n",
    "<h1><center>Übungszettel 2</center></h1>\n",
    "<h2><center>Abgabe: So. 12.05.2018 - 23:59 Uhr</center></h2>\n",
    "\n",
    "Hinweis: Alle Lösungen sollen in einem IPython Notebook realisiert werden, wobei Teilaufgaben und Zwischenergebnisse ausgegeben bzw. visualisiert werden sollen. Die Übungszettel sollen in Gruppen von 3 Personen abgegeben werden. Die Datei soll nach folgendem Muster benannt werden: uebung01 {nachname1} {nachname2} {nachname3}.ipynb\n",
    "\n",
    "Für eine Einleitung in IPython siehe z.B.: http://cs231n.github.io/ipython-tutorial/"
   ]
  },
  {
   "cell_type": "markdown",
   "metadata": {},
   "source": [
    "## Aufgabe 1 - Farbräume, Farbmodelle (2+1,5+2 Punkte)\n",
    "\n",
    "#### a) Zu welchem Zweck wurden die Farbmodelle RGB, HSV, HSB, YUV und YCbCr eingeführt und in welchen (technischen oder Anwendungs-)Bereichen werden sie verwendet?"
   ]
  },
  {
   "cell_type": "markdown",
   "metadata": {
    "collapsed": true
   },
   "source": [
    "Farbmodell | Zweck | Bereich\n",
    ":-- | :-- | :--\n",
    "RGB   | representation und anzeige von Bildern  | TV, Computer und Handy Displays, Projektoren\n",
    "HSV   | Farbwähler Werkzeuge | Computer Vision und Bildanalyse um Merkmale zu detektieren oder bei der Bildverarbeitung\n",
    "HSB   | HSB zur specifizierung des Farbtons |  Um Farben zu wählen, benutzt von Künstlern\n",
    "YCbCr | Bild kompression | JPEG, video, Gesichtserkennung, digitales TV"
   ]
  },
  {
   "cell_type": "markdown",
   "metadata": {},
   "source": [
    "#### b) Geben Sie für die Farbmodelle RGB, HSV, YCbCr jeweils die Kodierung für Magenta, Pink und ein mittleres Grau an."
   ]
  },
  {
   "cell_type": "markdown",
   "metadata": {
    "collapsed": true
   },
   "source": [
    "<table border=\"1\" width=100%>\n",
    "<tr>\n",
    "<th>Farbmodell</th>\n",
    "<th bgcolor=\"#FF00FF\">Magenta</th>\n",
    "<th bgcolor=\"#FF7F7F\">Pink</th>\n",
    "<th bgcolor=\"#808080\">Mittleres Grau</th>\n",
    "</tr>\n",
    "<tr>\n",
    "<td>RGB</td>\n",
    "<td>255, 0, 255</td>\n",
    "<td>255, 192, 203</td>\n",
    "<td>105, 105, 105</td>\n",
    "</tr>\n",
    "<tr>\n",
    "<td>HSV</td>\n",
    "<td>300°, 100%, 100%</td>\n",
    "<td>350°, 24.7%, 100% </td>\n",
    "<td>0°, 0%, 41.2%</td>\n",
    "</tr>\n",
    "<tr>\n",
    "<td>YC<sub>b</sub>C<sub>r</sub></td>\n",
    "<td>105, 212, 235 </td>\n",
    "<td>212, 123, 159</td>\n",
    "<td>105, 128, 128</td>\n",
    "</tr>\n",
    "</table>"
   ]
  },
  {
   "cell_type": "code",
   "execution_count": 5,
   "metadata": {},
   "outputs": [
    {
     "name": "stdout",
     "output_type": "stream",
     "text": [
      "[105. 128. 128.]\n"
     ]
    }
   ],
   "source": [
    "import numpy as np\n",
    "def rgb2ycbcr(rgb_arr):\n",
    "    A = np.array([[0.299, 0.587, 0.114], [-0.169, -0.331, 0.500],[0.500, -0.419, -0.081]])\n",
    "    return np.array([0, 128, 128]) + np.dot(A, rgb_arr)\n",
    "print(rgb2ycbcr([105, 105, 105]))"
   ]
  },
  {
   "cell_type": "markdown",
   "metadata": {},
   "source": [
    "#### c) Setzen Sie Transformationsmatrizen für die Umwandlung aus dem YUV in den YCbCr Farbraum und umgekehrt auf. "
   ]
  },
  {
   "cell_type": "markdown",
   "metadata": {
    "collapsed": true
   },
   "source": [
    "\\begin{equation}\n",
    "\\begin{pmatrix}\n",
    "Y \\\\\n",
    "C_b \\\\\n",
    "C_r \n",
    "\\end{pmatrix} \n",
    "= \n",
    "\\begin{pmatrix}\n",
    "0.299 & 0.587 & 0.114\\\\\n",
    "-0.169 & -0.331 & 0.500\\\\\n",
    "0.500 & -0.419 & -0.081\n",
    "\\end{pmatrix} \\cdot\n",
    "\\begin{pmatrix}\n",
    "R \\\\\n",
    "G \\\\\n",
    "B \n",
    "\\end{pmatrix}\n",
    "\\\\\n",
    "\\begin{pmatrix}\n",
    "R \\\\\n",
    "G \\\\\n",
    "B \n",
    "\\end{pmatrix} \n",
    "= \n",
    "\\begin{pmatrix}\n",
    "1.000 & 0.000 & 1.140\\\\\n",
    "1.000 & -0.395 & -0.581\\\\\n",
    "1.000 & 2.032 & 0.000\n",
    "\\end{pmatrix} \\cdot\n",
    "\\begin{pmatrix}\n",
    "Y \\\\\n",
    "U \\\\\n",
    "V \n",
    "\\end{pmatrix}\n",
    "\\end{equation}\n",
    "$\\ \\implies$\n",
    "\n",
    "\\begin{equation}\n",
    "\\begin{pmatrix}\n",
    "Y \\\\\n",
    "C_b \\\\\n",
    "C_r \n",
    "\\end{pmatrix} \n",
    "= \n",
    "\\begin{pmatrix}\n",
    "0.299 & 0.587 & 0.114\\\\\n",
    "-0.169 & -0.331 & 0.500\\\\\n",
    "0.500 & -0.419 & -0.081\n",
    "\\end{pmatrix} \\cdot\n",
    "\\begin{pmatrix}\n",
    "1.000 & 0.000 & 1.140\\\\\n",
    "1.000 & -0.395 & -0.581\\\\\n",
    "1.000 & 2.032 & 0.000\n",
    "\\end{pmatrix}\n",
    "\\begin{pmatrix}\n",
    "Y \\\\\n",
    "U \\\\\n",
    "V \n",
    "\\end{pmatrix}\n",
    "\\end{equation}\n",
    "\n",
    "\\begin{equation}\n",
    "\\begin{pmatrix}\n",
    "Y \\\\\n",
    "C_b \\\\\n",
    "C_r \n",
    "\\end{pmatrix} \n",
    "= \n",
    "\\begin{pmatrix}\n",
    "1.000 & 0.000 & 0.000\\\\\n",
    "0.000 & 1.147 & 0.000\\\\\n",
    "0.000 & 0.001 & 0.813\n",
    "\\end{pmatrix}\n",
    "\\begin{pmatrix}\n",
    "Y \\\\\n",
    "U \\\\\n",
    "V \n",
    "\\end{pmatrix}\n",
    "\\end{equation}\n",
    "\\begin{equation}\n",
    "A=\\begin{pmatrix}\n",
    "1.000 & 0.000 & 0.000\\\\\n",
    "0.000 & 1.147 & 0.000\\\\\n",
    "0.000 & 0.001 & 0.813\n",
    "\\end{pmatrix}, A^{-1}=\\begin{pmatrix}\n",
    "1.000 & 0.000 & 0.000\\\\\n",
    "0.000 & 0.872 & 0.000\\\\\n",
    "0.000 & 0.001 & 1.230\n",
    "\\end{pmatrix} \n",
    "\\end{equation}\n"
   ]
  },
  {
   "cell_type": "markdown",
   "metadata": {
    "collapsed": true
   },
   "source": [
    "## Aufgabe 2 - Evaluation (3+0,5+1+1,5+1,5+1+1 Punkte)\n",
    "#### Gegeben sei ein Modell A, welches vorraussagen soll, mit welcher Wahrscheinlichkeit auf einem gegebenen Bild eine Katze zu sehen ist. Im folgenden werden Arrays mit je 5000 Einträgen geladen. Jeder Eintrag bezieht sich dabei auf ein Bild in einem Datensatz X. Das Array gt_x enthält die korrekten Klassen (groundtruth): 1 für \"Katze\" und 0 für \"keine Katze\". Das Array probs_a_x enthält die vom Modell A vorrausgesagten Wahrscheinlichkeiten für \"Katze\"."
   ]
  },
  {
   "cell_type": "code",
   "execution_count": 2,
   "metadata": {},
   "outputs": [],
   "source": [
    "# -*- coding: utf-8 -*-\n",
    "%matplotlib inline\n",
    "import numpy as np\n",
    "import pickle as pkl\n",
    "\n",
    "# Datasets\n",
    "gt_x, gt_y = pkl.load(open('data.pkl','rb'), encoding='latin1')\n",
    "\n",
    "# Predictions\n",
    "probs_a_x, probs_b_x, probs_rand_x, probs_rand_y = pkl.load(open('predictions.pkl','rb'), encoding='latin1')\n"
   ]
  },
  {
   "cell_type": "markdown",
   "metadata": {},
   "source": [
    "#### a) Das Modell wird als binärer Klassifikator benutzt. Nehmen Sie dazu an, dass ein Bild als ,,Katze'' klassifiziert wird, wenn das Modell eine Wahrscheinlichkeit $>0.7$ ausgibt. Berechnen Sie zunächt die Werte für _true positives (tp)_, _false positives (fp)_, _true negatives (tn)_ und _false negatives (fn)_. Beurteilen Sie nun die Qualität des binären Klassifikators indem sie die folgenden Gütemaße berechnen: \n",
    "- Recall\n",
    "- Precision\n",
    "- Accuracy"
   ]
  },
  {
   "cell_type": "code",
   "execution_count": 3,
   "metadata": {},
   "outputs": [
    {
     "name": "stdout",
     "output_type": "stream",
     "text": [
      "tp: 1898 fp: 32 tn: 2409 fn: 661\n",
      "recall: 0.74 precision: 0.98 accuracy: 0.86\n"
     ]
    }
   ],
   "source": [
    "tp = np.where(gt_x[probs_a_x > 0.7] == 1)[0].size\n",
    "fp = np.where(gt_x[probs_a_x > 0.7] == 0)[0].size\n",
    "tn = np.where(gt_x[probs_a_x <= 0.7] == 0)[0].size\n",
    "fn = np.where(gt_x[probs_a_x <= 0.7] == 1)[0].size\n",
    "\n",
    "print(\"tp:\", tp, \"fp:\", fp, \"tn:\", tn, \"fn:\", fn)\n",
    "\n",
    "recall = tp / (tp + fn)\n",
    "precision = tp / (tp + fp)\n",
    "accuracy = (tn + tp) / (tp + fp + fn + tn)\n",
    "\n",
    "print(\"recall:\", round(recall, 2), \"precision:\", round(precision, 2), \"accuracy:\", round(accuracy, 2))\n"
   ]
  },
  {
   "cell_type": "markdown",
   "metadata": {},
   "source": [
    "#### b) Wie könnte ein Modell auf einfache Weise einen Recall von $100\\%$ erreichen?"
   ]
  },
  {
   "cell_type": "code",
   "execution_count": 4,
   "metadata": {},
   "outputs": [
    {
     "name": "stdout",
     "output_type": "stream",
     "text": [
      "Ein Modell C das einfach alle Bilder mit Katze labeld. So hat man keine false negatives.\n",
      "tp_c: 2559 fp_c: 2441 tn_c: 0 fn_c: 0\n",
      "recall_c 1.0\n"
     ]
    }
   ],
   "source": [
    "print(\"Ein Modell C das einfach alle Bilder mit Katze labeld. So hat man keine false negatives.\")\n",
    "probs_c_x = np.full(probs_a_x.shape, 1)\n",
    "\n",
    "tp_c = np.where(gt_x[probs_c_x > 0.7] == 1)[0].size\n",
    "fp_c = np.where(gt_x[probs_c_x > 0.7] == 0)[0].size\n",
    "tn_c = np.where(gt_x[probs_c_x <= 0.7] == 0)[0].size\n",
    "fn_c = np.where(gt_x[probs_c_x <= 0.7] == 1)[0].size\n",
    "\n",
    "print(\"tp_c:\", tp_c, \"fp_c:\", fp_c, \"tn_c:\", tn_c, \"fn_c:\", fn_c)\n",
    "\n",
    "recall_c = tp_c / (tp_c + fn_c)\n",
    "print(\"recall_c\", recall_c)"
   ]
  },
  {
   "cell_type": "markdown",
   "metadata": {},
   "source": [
    "#### c) Beschreiben Sie den Vorteil des _F-measure_ und berechnen Sie diesen."
   ]
  },
  {
   "cell_type": "code",
   "execution_count": 5,
   "metadata": {},
   "outputs": [
    {
     "name": "stdout",
     "output_type": "stream",
     "text": [
      "F-measure basiert auf recall und precision, so dass ein Modell wie das in b) nicht als gut bewertet würde wenn man nur recall betrachtet.\n",
      "F1 measure: 0.85\n"
     ]
    }
   ],
   "source": [
    "print(\"F-measure basiert auf recall und precision, so dass ein Modell wie das in b) nicht als gut bewertet \\\n",
    "würde wenn man nur recall betrachtet.\")\n",
    "\n",
    "f1 = 2 * recall * precision / (recall + precision)\n",
    "\n",
    "print(\"F1 measure:\", round(f1, 2))"
   ]
  },
  {
   "cell_type": "markdown",
   "metadata": {},
   "source": [
    "#### d) Die Precision-Recall Kurve ist ein zweidimensionaler Graph, in dem der _Recall_ auf der X-Achse und die _Precision_ auf der Y-Achse abgetragen werden. Mit dieser Kurve kann die Performance eines Klassifizierers visuell beurteilt und ein geeigneter Grenzwert gefunden werden. Plotten Sie die Recall-Precision Kurven von Modell A und B auf Datensatz X und vergleichen sie die Plots. Berechnen Sie auch die _AUC_ (area under curve). *Hinweis:* Sie dürfen die Bibliothek sklearn.metrics benutzen."
   ]
  },
  {
   "cell_type": "code",
   "execution_count": 7,
   "metadata": {},
   "outputs": [
    {
     "name": "stdout",
     "output_type": "stream",
     "text": [
      "Modell A schneidet besser ab als B, recall und precision is höher.\n",
      "AUC A: 0.98 AUC B: 0.92\n"
     ]
    },
    {
     "data": {
      "image/png": "[encoded data removed]",
      "text/plain": [
       "<Figure size 432x288 with 1 Axes>"
      ]
     },
     "metadata": {},
     "output_type": "display_data"
    }
   ],
   "source": [
    "from sklearn.metrics import precision_recall_curve, auc\n",
    "import matplotlib.pyplot as plt\n",
    "\n",
    "precision_a, recall_a, thresholds_a = precision_recall_curve(gt_x, probs_a_x)\n",
    "precision_b, recall_b, thresholds_b = precision_recall_curve(gt_x, probs_b_x)\n",
    "\n",
    "plt.plot(recall_a, precision_a, label=\"Modell a\")\n",
    "plt.plot(recall_b, precision_b, label=\"Modell b\")\n",
    "plt.xlabel(\"recall\")\n",
    "plt.ylabel(\"precision\")\n",
    "plt.legend()\n",
    "\n",
    "print(\"Modell A schneidet besser ab als B, recall und precision is höher.\")\n",
    "\n",
    "auc_a = auc(recall_a, precision_a)\n",
    "auc_b = auc(recall_b, precision_b)\n",
    "print(\"AUC A:\", round(auc_a, 2), \"AUC B:\", round(auc_b, 2))"
   ]
  },
  {
   "cell_type": "markdown",
   "metadata": {},
   "source": [
    "#### e) Nehmen Sie an, dass das Modell benutzt wird, um dem Benutzer eine Liste von Katzenbildern zu präsentieren. In der Retrieval-Liste werden Katzenbilder weiter oben als solche ohne Katzen zurückgeben. Um die Güte des Retrieval-Ergebnisses zu messen, berechnen Sie die _average_ _precision_ (AP) auf (1) den top-100, (2) top-500 und (3) auf allen Bildern. "
   ]
  },
  {
   "cell_type": "code",
   "execution_count": 285,
   "metadata": {},
   "outputs": [
    {
     "name": "stdout",
     "output_type": "stream",
     "text": [
      "average precision top-100: 1.0\n",
      "average precision top-500: 0.99\n",
      "average precision alle Bilder: 0.77\n"
     ]
    }
   ],
   "source": [
    "def retrieval_ap(slice_end):\n",
    "    slice_end = slice_end\n",
    "    \n",
    "    # zip to not lose connection\n",
    "    prob_truth_pairs = zip(probs_a_x, gt_x)\n",
    "\n",
    "    # sort to get most likely no cat pictures on top\n",
    "    sorted_probs_a_x = sorted(prob_truth_pairs, key=lambda tup: tup[0])\n",
    "\n",
    "    # split into two arrays again and slice relevant parts\n",
    "    rel_probs = np.array([i[0] for i in sorted_probs_a_x])[:slice_end]\n",
    "    rel_truths = np.array([i[1] for i in sorted_probs_a_x])[:slice_end]\n",
    "\n",
    "    # pick pictures without cats according to the model\n",
    "    no_cat_picture_retrieval_list = np.where(rel_probs <= 0.7)\n",
    "\n",
    "    # check which guesses were correct. Here correct is 0 since we are looking for no cats\n",
    "    a = 1 - rel_truths[no_cat_picture_retrieval_list]\n",
    "\n",
    "    ap = sum([np.sum(a[:i+1] / len(a[:i+1])) for i in range(len(a)) if a[i]]) / len(a)\n",
    "    \n",
    "    return ap\n",
    "\n",
    "print(\"average precision top-100:\", round(retrieval_ap(100), 2))\n",
    "print(\"average precision top-500:\", round(retrieval_ap(500), 2))\n",
    "print(\"average precision alle Bilder:\", round(retrieval_ap(len(probs_a_x)), 2))"
   ]
  },
  {
   "cell_type": "markdown",
   "metadata": {},
   "source": [
    "#### f) Betrachten Sie nun einen weiteren Datensatz Y, der ebenfalls Bilder von Katzen enthält. Auch hierfür befinden sich die Groundtruth-Werte im IPython Notebook (gt\\_y). Plotten Sie die Verteilungen der Klassen in X und Y. Was fällt auf?"
   ]
  },
  {
   "cell_type": "code",
   "execution_count": 272,
   "metadata": {},
   "outputs": [
    {
     "data": {
      "image/png": "[encoded data removed]",
      "text/plain": [
       "<Figure size 432x288 with 1 Axes>"
      ]
     },
     "metadata": {},
     "output_type": "display_data"
    },
    {
     "name": "stdout",
     "output_type": "stream",
     "text": [
      "Es sind fast keine Katzen in Y\n"
     ]
    }
   ],
   "source": [
    "cat_x, no_cat_x = np.where(gt_x == 1)[0].shape[0], np.where(gt_x == 0)[0].shape[0]\n",
    "cat_y, no_cat_y = np.where(gt_y == 1)[0].shape[0], np.where(gt_y == 0)[0].shape[0]\n",
    "\n",
    "labels = ('Katzen in X', 'Keine Katzen in X', 'Katzen in Y', 'Keine Katzen in Y')\n",
    "y_pos = np.arange(len(labels))\n",
    "performance = [cat_x, no_cat_x, cat_y, no_cat_y]\n",
    "\n",
    "plt.bar(y_pos, performance, align='center', alpha=0.5)\n",
    "plt.xticks(y_pos, labels)\n",
    "plt.ylabel('Anzahl')\n",
    "plt.title('Katzen Verteilungen in X und Y')\n",
    "plt.show()\n",
    "\n",
    "print(\"Es sind fast keine Katzen in Y\")"
   ]
  },
  {
   "cell_type": "markdown",
   "metadata": {},
   "source": [
    "#### g) Berechnen Sie die _AP-Werte_ der Ergebnisse (probs\\_rand\\_x und probs\\_rand\\_y) eines zufälligen Klassifizierers auf den Datensätzen X und Y. Welchen Einfluss hat die Verteilung der Daten auf die AP? "
   ]
  },
  {
   "cell_type": "code",
   "execution_count": null,
   "metadata": {},
   "outputs": [],
   "source": []
  }
 ],
 "metadata": {
  "kernelspec": {
   "display_name": "Python 3",
   "language": "python",
   "name": "python3"
  },
  "language_info": {
   "codemirror_mode": {
    "name": "ipython",
    "version": 3
   },
   "file_extension": ".py",
   "mimetype": "text/x-python",
   "name": "python",
   "nbconvert_exporter": "python",
   "pygments_lexer": "ipython3",
   "version": "3.6.5"
  }
 },
 "nbformat": 4,
 "nbformat_minor": 1
}
