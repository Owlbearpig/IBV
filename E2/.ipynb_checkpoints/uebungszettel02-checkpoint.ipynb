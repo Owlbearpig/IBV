{
 "cells": [
  {
   "cell_type": "markdown",
   "metadata": {},
   "source": [
    "<h2><center>Inhaltsbasierte Bild- und Videoanalyse - SoSe 19</center></h2>\n",
    "<h1><center>Übungszettel 2</center></h1>\n",
    "<h2><center>Abgabe: So. 12.05.2018 - 23:59 Uhr</center></h2>\n",
    "\n",
    "Hinweis: Alle Lösungen sollen in einem IPython Notebook realisiert werden, wobei Teilaufgaben und Zwischenergebnisse ausgegeben bzw. visualisiert werden sollen. Die Übungszettel sollen in Gruppen von 3 Personen abgegeben werden. Die Datei soll nach folgendem Muster benannt werden: uebung01 {nachname1} {nachname2} {nachname3}.ipynb\n",
    "\n",
    "Für eine Einleitung in IPython siehe z.B.: http://cs231n.github.io/ipython-tutorial/"
   ]
  },
  {
   "cell_type": "markdown",
   "metadata": {},
   "source": [
    "## Aufgabe 1 - Farbräume, Farbmodelle (2+1,5+2 Punkte)\n",
    "\n",
    "#### a) Zu welchem Zweck wurden die Farbmodelle RGB, HSV, HSB, YUV und YCbCr eingeführt und in welchen (technischen oder Anwendungs-)Bereichen werden sie verwendet?"
   ]
  },
  {
   "cell_type": "markdown",
   "metadata": {
    "collapsed": true
   },
   "source": [
    "Farbmodell | Zweck | Bereich\n",
    ":-- | :-- | :--\n",
    "RGB   |  | \n",
    "HSV   |  | \n",
    "HSB   |  | \n",
    "YCbCr |  | "
   ]
  },
  {
   "cell_type": "markdown",
   "metadata": {},
   "source": [
    "#### b) Geben Sie für die Farbmodelle RGB, HSV, YCbCr jeweils die Kodierung für Magenta, Pink und ein mittleres Grau an."
   ]
  },
  {
   "cell_type": "markdown",
   "metadata": {
    "collapsed": true
   },
   "source": [
    "<table border=\"1\" width=100%>\n",
    "<tr>\n",
    "<th>Farbmodell</th>\n",
    "<th bgcolor=\"#FF00FF\">Magenta</th>\n",
    "<th bgcolor=\"#FF7F7F\">Pink</th>\n",
    "<th bgcolor=\"#808080\">Mittleres Grau</th>\n",
    "</tr>\n",
    "<tr>\n",
    "<td>RGB</td>\n",
    "<td></td>\n",
    "<td></td>\n",
    "<td></td>\n",
    "</tr>\n",
    "<tr>\n",
    "<td>HSV</td>\n",
    "<td></td>\n",
    "<td></td>\n",
    "<td></td>\n",
    "</tr>\n",
    "<tr>\n",
    "<td>YC<sub>b</sub>C<sub>r</sub></td>\n",
    "<td></td>\n",
    "<td></td>\n",
    "<td></td>\n",
    "</tr>\n",
    "</table>"
   ]
  },
  {
   "cell_type": "markdown",
   "metadata": {},
   "source": [
    "#### c) Setzen Sie Transformationsmatrizen für die Umwandlung aus dem YUV in den YCbCr Farbraum und umgekehrt auf. "
   ]
  },
  {
   "cell_type": "markdown",
   "metadata": {
    "collapsed": true
   },
   "source": []
  },
  {
   "cell_type": "markdown",
   "metadata": {
    "collapsed": true
   },
   "source": [
    "## Aufgabe 2 - Evaluation (3+0,5+1+1,5+1,5+1+1 Punkte)\n",
    "#### Gegeben sei ein Modell A, welches vorraussagen soll, mit welcher Wahrscheinlichkeit auf einem gegebenen Bild eine Katze zu sehen ist. Im folgenden werden Arrays mit je 5000 Einträgen geladen. Jeder Eintrag bezieht sich dabei auf ein Bild in einem Datensatz X. Das Array gt_x enthält die korrekten Klassen (groundtruth): 1 für \"Katze\" und 0 für \"keine Katze\". Das Array probs_a_x enthält die vom Modell A vorrausgesagten Wahrscheinlichkeiten für \"Katze\"."
   ]
  },
  {
   "cell_type": "code",
   "execution_count": null,
   "metadata": {},
   "outputs": [],
   "source": [
    "# -*- coding: utf-8 -*-\n",
    "%matplotlib inline\n",
    "import numpy as np\n",
    "import pickle as pkl\n",
    "\n",
    "# Datasets\n",
    "gt_x, gt_y = pkl.load(open('data.pkl','rb'), encoding='latin1')\n",
    "\n",
    "# Predictions\n",
    "probs_a_x, probs_b_x, probs_rand_x, probs_rand_y = pkl.load(open('predictions.pkl','rb'), encoding='latin1')\n"
   ]
  },
  {
   "cell_type": "markdown",
   "metadata": {},
   "source": [
    "#### a) Das Modell wird als binärer Klassifikator benutzt. Nehmen Sie dazu an, dass ein Bild als ,,Katze'' klassifiziert wird, wenn das Modell eine Wahrscheinlichkeit $>0.7$ ausgibt. Berechnen Sie zunächt die Werte für _true positives (tp)_, _false positives (fp)_, _true negatives (tn)_ und _false negatives (fn)_. Beurteilen Sie nun die Qualität des binären Klassifikators indem sie die folgenden Gütemaße berechnen: \n",
    "- Recall\n",
    "- Precision\n",
    "- Accuracy"
   ]
  },
  {
   "cell_type": "code",
   "execution_count": 14,
   "metadata": {},
   "outputs": [
    {
     "name": "stdout",
     "output_type": "stream",
     "text": [
      "Recall: 0.7416959749902305\n",
      "Precision: 0.983419689119171\n",
      "Accuracy: 0.8614\n"
     ]
    }
   ],
   "source": [
    "# -*- coding: utf-8 -*-\n",
    "%matplotlib inline\n",
    "import numpy as np\n",
    "import pickle as pkl\n",
    "\n",
    "# Datasets\n",
    "gt_x, gt_y = pkl.load(open('data.pkl','rb'), encoding='latin1')\n",
    "\n",
    "# Predictions\n",
    "probs_a_x, probs_b_x, probs_rand_x, probs_rand_y = pkl.load(open('predictions.pkl','rb'), encoding='latin1')\n",
    "\n",
    "true_positive = []\n",
    "false_positive = []\n",
    "true_negative = []\n",
    "false_negative = []\n",
    "\n",
    "for i in range(5000):\n",
    "    if gt_x[i] > 0:\n",
    "        if probs_a_x[i] > 0.7:\n",
    "            true_positive.append(probs_a_x[i])\n",
    "        else:\n",
    "            false_negative.append(probs_a_x[i])\n",
    "    else:\n",
    "        if probs_a_x[i] > 0.7:\n",
    "            false_positive.append(probs_a_x[i])\n",
    "        else:\n",
    "            true_negative.append(probs_a_x[i])\n",
    "\n",
    "#print (\"true positive: {0}\".format(len(true_positive)))\n",
    "#print (\"false positive: {0}\".format(len(false_positive)))\n",
    "#print (\"true negative: {0}\".format(len(true_negative)))\n",
    "#print (\"false negative: {0}\".format(len(false_negative)))\n",
    "recall = len(true_positive)/(len(true_positive)+len(false_negative))\n",
    "precision = len(true_positive)/(len(true_positive)+len(false_positive))\n",
    "accuracy = (len(true_positive)+len(true_negative))/len(gt_x)\n",
    "print (\"Recall: {0}\".format(recall))\n",
    "print (\"Precision: {0}\".format(precision))\n",
    "print (\"Accuracy: {0}\".format(accuracy))"
   ]
  },
  {
   "cell_type": "markdown",
   "metadata": {},
   "source": [
    "#### b) Wie könnte ein Modell auf einfache Weise einen Recall von $100\\%$ erreichen?"
   ]
  },
  {
   "cell_type": "markdown",
   "metadata": {
    "collapsed": true
   },
   "source": []
  },
  {
   "cell_type": "markdown",
   "metadata": {},
   "source": [
    "#### c) Beschreiben Sie den Vorteil des _F-measure_ und berechnen Sie diesen."
   ]
  },
  {
   "cell_type": "code",
   "execution_count": null,
   "metadata": {},
   "outputs": [],
   "source": []
  },
  {
   "cell_type": "markdown",
   "metadata": {},
   "source": [
    "#### d) Die Precision-Recall Kurve ist ein zweidimensionaler Graph, in dem der _Recall_ auf der X-Achse und die _Precision_ auf der Y-Achse abgetragen werden. Mit dieser Kurve kann die Performance eines Klassifizierers visuell beurteilt und ein geeigneter Grenzwert gefunden werden. Plotten Sie die Recall-Precision Kurven von Modell A und B auf Datensatz X und vergleichen sie die Plots. Berechnen Sie auch die _AUC_ (area under curve). *Hinweis:* Sie dürfen die Bibliothek sklearn.metrics benutzen."
   ]
  },
  {
   "cell_type": "code",
   "execution_count": 23,
   "metadata": {},
   "outputs": [
    {
     "data": {
      "text/plain": [
       "[<matplotlib.lines.Line2D at 0x7fa943e07e80>]"
      ]
     },
     "execution_count": 23,
     "metadata": {},
     "output_type": "execute_result"
    },
    {
     "data": {
      "image/png": "[encoded data removed]",
      "text/plain": [
       "<Figure size 432x288 with 2 Axes>"
      ]
     },
     "metadata": {
      "needs_background": "light"
     },
     "output_type": "display_data"
    }
   ],
   "source": [
    "# -*- coding: utf-8 -*-\n",
    "%matplotlib inline\n",
    "from sklearn.metrics import precision_recall_curve, auc\n",
    "import matplotlib.pyplot as plt\n",
    "import numpy as np\n",
    "import pickle as pkl\n",
    "\n",
    "# Datasets\n",
    "gt_x, gt_y = pkl.load(open('data.pkl','rb'), encoding='latin1')\n",
    "\n",
    "# Predictions\n",
    "probs_a_x, probs_b_x, probs_rand_x, probs_rand_y = pkl.load(open('predictions.pkl','rb'), encoding='latin1')\n",
    "\n",
    "precision_a, recall_a, thresholds_a = precision_recall_curve(gt_x, probs_a_x) \n",
    "precision_b, recall_b, thresholds_b = precision_recall_curve(gt_x, probs_b_x)\n",
    "\n",
    "a = plt.subplot(211)\n",
    "a.plot(recall_a, precision_a)\n",
    "b = plt.subplot(212)\n",
    "b.plot(recall_b, precision_b)"
   ]
  },
  {
   "cell_type": "markdown",
   "metadata": {},
   "source": [
    "#### e) Nehmen Sie an, dass das Modell benutzt wird, um dem Benutzer eine Liste von Katzenbildern zu präsentieren. In der Retrieval-Liste werden Katzenbilder weiter oben als solche ohne Katzen zurückgeben. Um die Güte des Retrieval-Ergebnisses zu messen, berechnen Sie die _average_ _precision_ (AP) auf (1) den top-100, (2) top-500 und (3) auf allen Bildern. "
   ]
  },
  {
   "cell_type": "code",
   "execution_count": null,
   "metadata": {},
   "outputs": [],
   "source": []
  },
  {
   "cell_type": "markdown",
   "metadata": {},
   "source": [
    "#### f) Betrachten Sie nun einen weiteren Datensatz Y, der ebenfalls Bilder von Katzen enthält. Auch hierfür befinden sich die Groundtruth-Werte im IPython Notebook (gt\\_y). Plotten Sie die Verteilungen der Klassen in X und Y. Was fällt auf?"
   ]
  },
  {
   "cell_type": "code",
   "execution_count": null,
   "metadata": {},
   "outputs": [],
   "source": []
  },
  {
   "cell_type": "markdown",
   "metadata": {},
   "source": [
    "#### g) Berechnen Sie die _AP-Werte_ der Ergebnisse (probs\\_rand\\_x und probs\\_rand\\_y) eines zufälligen Klassifizierers auf den Datensätzen X und Y. Welchen Einfluss hat die Verteilung der Daten auf die AP? "
   ]
  },
  {
   "cell_type": "code",
   "execution_count": null,
   "metadata": {},
   "outputs": [],
   "source": []
  }
 ],
 "metadata": {
  "kernelspec": {
   "display_name": "Python 3",
   "language": "python",
   "name": "python3"
  },
  "language_info": {
   "codemirror_mode": {
    "name": "ipython",
    "version": 3
   },
   "file_extension": ".py",
   "mimetype": "text/x-python",
   "name": "python",
   "nbconvert_exporter": "python",
   "pygments_lexer": "ipython3",
   "version": "3.6.7"
  }
 },
 "nbformat": 4,
 "nbformat_minor": 1
}
