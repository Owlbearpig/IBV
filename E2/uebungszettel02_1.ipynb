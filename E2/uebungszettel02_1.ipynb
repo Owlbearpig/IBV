{
 "cells": [
  {
   "cell_type": "markdown",
   "metadata": {},
   "source": [
    "<h2><center>Inhaltsbasierte Bild- und Videoanalyse - SoSe 19</center></h2>\n",
    "<h1><center>Übungszettel 2</center></h1>\n",
    "<h2><center>Abgabe: So. 12.05.2018 - 23:59 Uhr</center></h2>\n",
    "\n",
    "Hinweis: Alle Lösungen sollen in einem IPython Notebook realisiert werden, wobei Teilaufgaben und Zwischenergebnisse ausgegeben bzw. visualisiert werden sollen. Die Übungszettel sollen in Gruppen von 3 Personen abgegeben werden. Die Datei soll nach folgendem Muster benannt werden: uebung01 {nachname1} {nachname2} {nachname3}.ipynb\n",
    "\n",
    "Für eine Einleitung in IPython siehe z.B.: http://cs231n.github.io/ipython-tutorial/"
   ]
  },
  {
   "cell_type": "markdown",
   "metadata": {},
   "source": [
    "## Aufgabe 1 - Farbräume, Farbmodelle (2+1,5+2 Punkte)\n",
    "\n",
    "#### a) Zu welchem Zweck wurden die Farbmodelle RGB, HSV, HSB, YUV und YCbCr eingeführt und in welchen (technischen oder Anwendungs-)Bereichen werden sie verwendet?"
   ]
  },
  {
   "cell_type": "markdown",
   "metadata": {
    "collapsed": true
   },
   "source": [
    "Farbmodell | Zweck | Bereich\n",
    ":-- | :-- | :--\n",
    "RGB   | representation und anzeige von Bildern  | TV, Computer und Handy Displays, Projektoren\n",
    "HSV   | Farbwähler Werkzeuge | Computer Vision und Bildanalyse um Merkmale zu detektieren oder bei der Bildverarbeitung\n",
    "HSB   | HSB zur specifizierung des Farbtons |  Um Farben zu wählen, benutzt von Künstlern\n",
    "YCbCr | Bild kompression | JPEG, video, Gesichtserkennung, digitales TV"
   ]
  },
  {
   "cell_type": "markdown",
   "metadata": {},
   "source": [
    "#### b) Geben Sie für die Farbmodelle RGB, HSV, YCbCr jeweils die Kodierung für Magenta, Pink und ein mittleres Grau an."
   ]
  },
  {
   "cell_type": "markdown",
   "metadata": {
    "collapsed": true
   },
   "source": [
    "<table border=\"1\" width=100%>\n",
    "<tr>\n",
    "<th>Farbmodell</th>\n",
    "<th bgcolor=\"#FF00FF\">Magenta</th>\n",
    "<th bgcolor=\"#FF7F7F\">Pink</th>\n",
    "<th bgcolor=\"#808080\">Mittleres Grau</th>\n",
    "</tr>\n",
    "<tr>\n",
    "<td>RGB</td>\n",
    "<td>255, 0, 255</td>\n",
    "<td>255, 192, 203</td>\n",
    "<td>105, 105, 105</td>\n",
    "</tr>\n",
    "<tr>\n",
    "<td>HSV</td>\n",
    "<td>300°, 100%, 100%</td>\n",
    "<td>350°, 24.7%, 100% </td>\n",
    "<td>0°, 0%, 41.2%</td>\n",
    "</tr>\n",
    "<tr>\n",
    "<td>YC<sub>b</sub>C<sub>r</sub></td>\n",
    "<td>105, 212, 235 </td>\n",
    "<td>212, 123, 159</td>\n",
    "<td>105, 128, 128</td>\n",
    "</tr>\n",
    "</table>"
   ]
  },
  {
   "cell_type": "code",
   "execution_count": 1,
   "metadata": {},
   "outputs": [
    {
     "name": "stdout",
     "output_type": "stream",
     "text": [
      "[105. 128. 128.]\n"
     ]
    }
   ],
   "source": [
    "import numpy as np\n",
    "def rgb2ycbcr(rgb_arr):\n",
    "    A = np.array([[0.299, 0.587, 0.114], [-0.169, -0.331, 0.500],[0.500, -0.419, -0.081]])\n",
    "    return np.array([0, 128, 128]) + np.dot(A, rgb_arr)\n",
    "print(rgb2ycbcr([105, 105, 105]))"
   ]
  },
  {
   "cell_type": "markdown",
   "metadata": {},
   "source": [
    "#### c) Setzen Sie Transformationsmatrizen für die Umwandlung aus dem YUV in den YCbCr Farbraum und umgekehrt auf. "
   ]
  },
  {
   "cell_type": "markdown",
   "metadata": {
    "collapsed": true
   },
   "source": [
    "\\begin{equation}\n",
    "\\begin{pmatrix}\n",
    "Y \\\\\n",
    "C_b \\\\\n",
    "C_r \n",
    "\\end{pmatrix} \n",
    "= \n",
    "\\begin{pmatrix}\n",
    "0.299 & 0.587 & 0.114\\\\\n",
    "-0.169 & -0.331 & 0.500\\\\\n",
    "0.500 & -0.419 & -0.081\n",
    "\\end{pmatrix} \\cdot\n",
    "\\begin{pmatrix}\n",
    "R \\\\\n",
    "G \\\\\n",
    "B \n",
    "\\end{pmatrix}\n",
    "\\\\\n",
    "\\begin{pmatrix}\n",
    "R \\\\\n",
    "G \\\\\n",
    "B \n",
    "\\end{pmatrix} \n",
    "= \n",
    "\\begin{pmatrix}\n",
    "1.000 & 0.000 & 1.140\\\\\n",
    "1.000 & -0.395 & -0.581\\\\\n",
    "1.000 & 2.032 & 0.000\n",
    "\\end{pmatrix} \\cdot\n",
    "\\begin{pmatrix}\n",
    "Y \\\\\n",
    "U \\\\\n",
    "V \n",
    "\\end{pmatrix}\n",
    "\\end{equation}\n",
    "$\\ \\implies$\n",
    "\n",
    "\\begin{equation}\n",
    "\\begin{pmatrix}\n",
    "Y \\\\\n",
    "C_b \\\\\n",
    "C_r \n",
    "\\end{pmatrix} \n",
    "= \n",
    "\\begin{pmatrix}\n",
    "0.299 & 0.587 & 0.114\\\\\n",
    "-0.169 & -0.331 & 0.500\\\\\n",
    "0.500 & -0.419 & -0.081\n",
    "\\end{pmatrix} \\cdot\n",
    "\\begin{pmatrix}\n",
    "1.000 & 0.000 & 1.140\\\\\n",
    "1.000 & -0.395 & -0.581\\\\\n",
    "1.000 & 2.032 & 0.000\n",
    "\\end{pmatrix}\n",
    "\\begin{pmatrix}\n",
    "Y \\\\\n",
    "U \\\\\n",
    "V \n",
    "\\end{pmatrix}\n",
    "\\end{equation}\n",
    "\n",
    "\\begin{equation}\n",
    "\\begin{pmatrix}\n",
    "Y \\\\\n",
    "C_b \\\\\n",
    "C_r \n",
    "\\end{pmatrix} \n",
    "= \n",
    "\\begin{pmatrix}\n",
    "1.000 & 0.000 & 0.000\\\\\n",
    "0.000 & 1.147 & 0.000\\\\\n",
    "0.000 & 0.001 & 0.813\n",
    "\\end{pmatrix}\n",
    "\\begin{pmatrix}\n",
    "Y \\\\\n",
    "U \\\\\n",
    "V \n",
    "\\end{pmatrix}\n",
    "\\end{equation}\n",
    "\\begin{equation}\n",
    "A=\\begin{pmatrix}\n",
    "1.000 & 0.000 & 0.000\\\\\n",
    "0.000 & 1.147 & 0.000\\\\\n",
    "0.000 & 0.001 & 0.813\n",
    "\\end{pmatrix}, A^{-1}=\\begin{pmatrix}\n",
    "1.000 & 0.000 & 0.000\\\\\n",
    "0.000 & 0.872 & 0.000\\\\\n",
    "0.000 & 0.001 & 1.230\n",
    "\\end{pmatrix} \n",
    "\\end{equation}"
   ]
  },
  {
   "cell_type": "markdown",
   "metadata": {
    "collapsed": true
   },
   "source": [
    "## Aufgabe 2 - Evaluation (3+0,5+1+1,5+1,5+1+1 Punkte)\n",
    "#### Gegeben sei ein Modell A, welches vorraussagen soll, mit welcher Wahrscheinlichkeit auf einem gegebenen Bild eine Katze zu sehen ist. Im folgenden werden Arrays mit je 5000 Einträgen geladen. Jeder Eintrag bezieht sich dabei auf ein Bild in einem Datensatz X. Das Array gt_x enthält die korrekten Klassen (groundtruth): 1 für \"Katze\" und 0 für \"keine Katze\". Das Array probs_a_x enthält die vom Modell A vorrausgesagten Wahrscheinlichkeiten für \"Katze\"."
   ]
  },
  {
   "cell_type": "code",
   "execution_count": 2,
   "metadata": {},
   "outputs": [],
   "source": [
    "# -*- coding: utf-8 -*-\n",
    "%matplotlib inline\n",
    "import numpy as np\n",
    "import pickle as pkl\n",
    "\n",
    "# Datasets\n",
    "gt_x, gt_y = pkl.load(open('data.pkl','rb'), encoding='latin1')\n",
    "\n",
    "# Predictions\n",
    "probs_a_x, probs_b_x, probs_rand_x, probs_rand_y = pkl.load(open('predictions.pkl','rb'), encoding='latin1')\n"
   ]
  },
  {
   "cell_type": "markdown",
   "metadata": {},
   "source": [
    "#### a) Das Modell wird als binärer Klassifikator benutzt. Nehmen Sie dazu an, dass ein Bild als ,,Katze'' klassifiziert wird, wenn das Modell eine Wahrscheinlichkeit $>0.7$ ausgibt. Berechnen Sie zunächt die Werte für _true positives (tp)_, _false positives (fp)_, _true negatives (tn)_ und _false negatives (fn)_. Beurteilen Sie nun die Qualität des binären Klassifikators indem sie die folgenden Gütemaße berechnen: \n",
    "- Recall\n",
    "- Precision\n",
    "- Accuracy"
   ]
  },
  {
   "cell_type": "code",
   "execution_count": null,
   "metadata": {},
   "outputs": [],
   "source": []
  },
  {
   "cell_type": "markdown",
   "metadata": {},
   "source": [
    "#### b) Wie könnte ein Modell auf einfache Weise einen Recall von $100\\%$ erreichen?"
   ]
  },
  {
   "cell_type": "markdown",
   "metadata": {
    "collapsed": true
   },
   "source": []
  },
  {
   "cell_type": "markdown",
   "metadata": {},
   "source": [
    "#### c) Beschreiben Sie den Vorteil des _F-measure_ und berechnen Sie diesen."
   ]
  },
  {
   "cell_type": "code",
   "execution_count": null,
   "metadata": {},
   "outputs": [],
   "source": []
  },
  {
   "cell_type": "markdown",
   "metadata": {},
   "source": [
    "#### d) Die Precision-Recall Kurve ist ein zweidimensionaler Graph, in dem der _Recall_ auf der X-Achse und die _Precision_ auf der Y-Achse abgetragen werden. Mit dieser Kurve kann die Performance eines Klassifizierers visuell beurteilt und ein geeigneter Grenzwert gefunden werden. Plotten Sie die Recall-Precision Kurven von Modell A und B auf Datensatz X und vergleichen sie die Plots. Berechnen Sie auch die _AUC_ (area under curve). *Hinweis:* Sie dürfen die Bibliothek sklearn.metrics benutzen."
   ]
  },
  {
   "cell_type": "code",
   "execution_count": 3,
   "metadata": {},
   "outputs": [
    {
     "ename": "ModuleNotFoundError",
     "evalue": "No module named 'sklearn'",
     "output_type": "error",
     "traceback": [
      "\u001b[1;31m---------------------------------------------------------------------------\u001b[0m",
      "\u001b[1;31mModuleNotFoundError\u001b[0m                       Traceback (most recent call last)",
      "\u001b[1;32m<ipython-input-3-e50fbc075ef8>\u001b[0m in \u001b[0;36m<module>\u001b[1;34m\u001b[0m\n\u001b[1;32m----> 1\u001b[1;33m \u001b[1;32mfrom\u001b[0m \u001b[0msklearn\u001b[0m\u001b[1;33m.\u001b[0m\u001b[0mmetrics\u001b[0m \u001b[1;32mimport\u001b[0m \u001b[0mprecision_recall_curve\u001b[0m\u001b[1;33m,\u001b[0m \u001b[0mauc\u001b[0m\u001b[1;33m\u001b[0m\u001b[1;33m\u001b[0m\u001b[0m\n\u001b[0m\u001b[0;32m      2\u001b[0m \u001b[1;32mimport\u001b[0m \u001b[0mmatplotlib\u001b[0m\u001b[1;33m.\u001b[0m\u001b[0mpyplot\u001b[0m \u001b[1;32mas\u001b[0m \u001b[0mplt\u001b[0m\u001b[1;33m\u001b[0m\u001b[1;33m\u001b[0m\u001b[0m\n",
      "\u001b[1;31mModuleNotFoundError\u001b[0m: No module named 'sklearn'"
     ]
    }
   ],
   "source": [
    "from sklearn.metrics import precision_recall_curve, auc\n",
    "import matplotlib.pyplot as plt"
   ]
  },
  {
   "cell_type": "markdown",
   "metadata": {},
   "source": [
    "#### e) Nehmen Sie an, dass das Modell benutzt wird, um dem Benutzer eine Liste von Katzenbildern zu präsentieren. In der Retrieval-Liste werden Katzenbilder weiter oben als solche ohne Katzen zurückgeben. Um die Güte des Retrieval-Ergebnisses zu messen, berechnen Sie die _average_ _precision_ (AP) auf (1) den top-100, (2) top-500 und (3) auf allen Bildern. "
   ]
  },
  {
   "cell_type": "code",
   "execution_count": null,
   "metadata": {},
   "outputs": [],
   "source": []
  },
  {
   "cell_type": "markdown",
   "metadata": {},
   "source": [
    "#### f) Betrachten Sie nun einen weiteren Datensatz Y, der ebenfalls Bilder von Katzen enthält. Auch hierfür befinden sich die Groundtruth-Werte im IPython Notebook (gt\\_y). Plotten Sie die Verteilungen der Klassen in X und Y. Was fällt auf?"
   ]
  },
  {
   "cell_type": "code",
   "execution_count": null,
   "metadata": {},
   "outputs": [],
   "source": []
  },
  {
   "cell_type": "markdown",
   "metadata": {},
   "source": [
    "#### g) Berechnen Sie die _AP-Werte_ der Ergebnisse (probs\\_rand\\_x und probs\\_rand\\_y) eines zufälligen Klassifizierers auf den Datensätzen X und Y. Welchen Einfluss hat die Verteilung der Daten auf die AP? "
   ]
  },
  {
   "cell_type": "code",
   "execution_count": null,
   "metadata": {},
   "outputs": [],
   "source": []
  }
 ],
 "metadata": {
  "kernelspec": {
   "display_name": "Python 3",
   "language": "python",
   "name": "python3"
  },
  "language_info": {
   "codemirror_mode": {
    "name": "ipython",
    "version": 3
   },
   "file_extension": ".py",
   "mimetype": "text/x-python",
   "name": "python",
   "nbconvert_exporter": "python",
   "pygments_lexer": "ipython3",
   "version": "3.7.2"
  }
 },
 "nbformat": 4,
 "nbformat_minor": 1
}
