{
 "cells": [
  {
   "cell_type": "markdown",
   "metadata": {},
   "source": [
    "<h2><center>Inhaltsbasierte Bild- und Videoanalyse - SoSe 19</center></h2>\n",
    "<h1><center>Übungszettel 2</center></h1>\n",
    "<h2><center>Abgabe: So. 12.05.2018 - 23:59 Uhr</center></h2>\n",
    "\n",
    "Hinweis: Alle Lösungen sollen in einem IPython Notebook realisiert werden, wobei Teilaufgaben und Zwischenergebnisse ausgegeben bzw. visualisiert werden sollen. Die Übungszettel sollen in Gruppen von 3 Personen abgegeben werden. Die Datei soll nach folgendem Muster benannt werden: uebung01 {nachname1} {nachname2} {nachname3}.ipynb\n",
    "\n",
    "Für eine Einleitung in IPython siehe z.B.: http://cs231n.github.io/ipython-tutorial/"
   ]
  },
  {
   "cell_type": "markdown",
   "metadata": {},
   "source": [
    "## Aufgabe 1 - Farbräume, Farbmodelle (2+1,5+2 Punkte)\n",
    "\n",
    "#### a) Zu welchem Zweck wurden die Farbmodelle RGB, HSV, HSB, YUV und YCbCr eingeführt und in welchen (technischen oder Anwendungs-)Bereichen werden sie verwendet?"
   ]
  },
  {
   "cell_type": "markdown",
   "metadata": {
    "collapsed": true
   },
   "source": [
    "Farbmodell | Zweck | Bereich\n",
    ":-- | :-- | :--\n",
    "RGB   | representation und anzeige von Bildern  | TV, Computer und Handy Displays, Projektoren\n",
    "HSV   | Farbwähler Werkzeuge | Computer Vision und Bildanalyse um Merkmale zu detektieren oder bei der Bildverarbeitung\n",
    "HSB   | HSB zur specifizierung des Farbtons |  Um Farben zu wählen, benutzt von Künstlern\n",
    "YCbCr | Bild kompression | JPEG, video, Gesichtserkennung, digitales TV"
   ]
  },
  {
   "cell_type": "markdown",
   "metadata": {},
   "source": [
    "#### b) Geben Sie für die Farbmodelle RGB, HSV, YCbCr jeweils die Kodierung für Magenta, Pink und ein mittleres Grau an."
   ]
  },
  {
   "cell_type": "markdown",
   "metadata": {
    "collapsed": true
   },
   "source": [
    "<table border=\"1\" width=100%>\n",
    "<tr>\n",
    "<th>Farbmodell</th>\n",
    "<th bgcolor=\"#FF00FF\">Magenta</th>\n",
    "<th bgcolor=\"#FF7F7F\">Pink</th>\n",
    "<th bgcolor=\"#808080\">Mittleres Grau</th>\n",
    "</tr>\n",
    "<tr>\n",
    "<td>RGB</td>\n",
    "<td>255, 0, 255</td>\n",
    "<td>255, 192, 203</td>\n",
    "<td>105, 105, 105</td>\n",
    "</tr>\n",
    "<tr>\n",
    "<td>HSV</td>\n",
    "<td>300°, 100%, 100%</td>\n",
    "<td>350°, 24.7%, 100% </td>\n",
    "<td>0°, 0%, 41.2%</td>\n",
    "</tr>\n",
    "<tr>\n",
    "<td>YC<sub>b</sub>C<sub>r</sub></td>\n",
    "<td>105, 212, 235 </td>\n",
    "<td>212, 123, 159</td>\n",
    "<td>105, 128, 128</td>\n",
    "</tr>\n",
    "</table>"
   ]
  },
  {
   "cell_type": "code",
   "execution_count": 5,
   "metadata": {},
   "outputs": [
    {
     "name": "stdout",
     "output_type": "stream",
     "text": [
      "[105. 128. 128.]\n"
     ]
    }
   ],
   "source": [
    "import numpy as np\n",
    "def rgb2ycbcr(rgb_arr):\n",
    "    A = np.array([[0.299, 0.587, 0.114], [-0.169, -0.331, 0.500],[0.500, -0.419, -0.081]])\n",
    "    return np.array([0, 128, 128]) + np.dot(A, rgb_arr)\n",
    "print(rgb2ycbcr([105, 105, 105]))"
   ]
  },
  {
   "cell_type": "markdown",
   "metadata": {},
   "source": [
    "#### c) Setzen Sie Transformationsmatrizen für die Umwandlung aus dem YUV in den YCbCr Farbraum und umgekehrt auf. "
   ]
  },
  {
   "cell_type": "markdown",
   "metadata": {
    "collapsed": true
   },
   "source": [
    "\\begin{equation}\n",
    "\\begin{pmatrix}\n",
    "Y \\\\\n",
    "C_b \\\\\n",
    "C_r \n",
    "\\end{pmatrix} \n",
    "= \n",
    "\\begin{pmatrix}\n",
    "0.299 & 0.587 & 0.114\\\\\n",
    "-0.169 & -0.331 & 0.500\\\\\n",
    "0.500 & -0.419 & -0.081\n",
    "\\end{pmatrix} \\cdot\n",
    "\\begin{pmatrix}\n",
    "R \\\\\n",
    "G \\\\\n",
    "B \n",
    "\\end{pmatrix}\n",
    "\\\\\n",
    "\\begin{pmatrix}\n",
    "R \\\\\n",
    "G \\\\\n",
    "B \n",
    "\\end{pmatrix} \n",
    "= \n",
    "\\begin{pmatrix}\n",
    "1.000 & 0.000 & 1.140\\\\\n",
    "1.000 & -0.395 & -0.581\\\\\n",
    "1.000 & 2.032 & 0.000\n",
    "\\end{pmatrix} \\cdot\n",
    "\\begin{pmatrix}\n",
    "Y \\\\\n",
    "U \\\\\n",
    "V \n",
    "\\end{pmatrix}\n",
    "\\end{equation}\n",
    "$\\ \\implies$\n",
    "\n",
    "\\begin{equation}\n",
    "\\begin{pmatrix}\n",
    "Y \\\\\n",
    "C_b \\\\\n",
    "C_r \n",
    "\\end{pmatrix} \n",
    "= \n",
    "\\begin{pmatrix}\n",
    "0.299 & 0.587 & 0.114\\\\\n",
    "-0.169 & -0.331 & 0.500\\\\\n",
    "0.500 & -0.419 & -0.081\n",
    "\\end{pmatrix} \\cdot\n",
    "\\begin{pmatrix}\n",
    "1.000 & 0.000 & 1.140\\\\\n",
    "1.000 & -0.395 & -0.581\\\\\n",
    "1.000 & 2.032 & 0.000\n",
    "\\end{pmatrix}\n",
    "\\begin{pmatrix}\n",
    "Y \\\\\n",
    "U \\\\\n",
    "V \n",
    "\\end{pmatrix}\n",
    "\\end{equation}\n",
    "\n",
    "\\begin{equation}\n",
    "\\begin{pmatrix}\n",
    "Y \\\\\n",
    "C_b \\\\\n",
    "C_r \n",
    "\\end{pmatrix} \n",
    "= \n",
    "\\begin{pmatrix}\n",
    "1.000 & 0.000 & 0.000\\\\\n",
    "0.000 & 1.147 & 0.000\\\\\n",
    "0.000 & 0.001 & 0.813\n",
    "\\end{pmatrix}\n",
    "\\begin{pmatrix}\n",
    "Y \\\\\n",
    "U \\\\\n",
    "V \n",
    "\\end{pmatrix}\n",
    "\\end{equation}\n",
    "\\begin{equation}\n",
    "A=\\begin{pmatrix}\n",
    "1.000 & 0.000 & 0.000\\\\\n",
    "0.000 & 1.147 & 0.000\\\\\n",
    "0.000 & 0.001 & 0.813\n",
    "\\end{pmatrix}, A^{-1}=\\begin{pmatrix}\n",
    "1.000 & 0.000 & 0.000\\\\\n",
    "0.000 & 0.872 & 0.000\\\\\n",
    "0.000 & 0.001 & 1.230\n",
    "\\end{pmatrix} \n",
    "\\end{equation}"
   ]
  },
  {
   "cell_type": "markdown",
   "metadata": {
    "collapsed": true
   },
   "source": [
    "## Aufgabe 2 - Evaluation (3+0,5+1+1,5+1,5+1+1 Punkte)\n",
    "#### Gegeben sei ein Modell A, welches vorraussagen soll, mit welcher Wahrscheinlichkeit auf einem gegebenen Bild eine Katze zu sehen ist. Im folgenden werden Arrays mit je 5000 Einträgen geladen. Jeder Eintrag bezieht sich dabei auf ein Bild in einem Datensatz X. Das Array gt_x enthält die korrekten Klassen (groundtruth): 1 für \"Katze\" und 0 für \"keine Katze\". Das Array probs_a_x enthält die vom Modell A vorrausgesagten Wahrscheinlichkeiten für \"Katze\"."
   ]
  },
  {
   "cell_type": "code",
   "execution_count": 12,
   "metadata": {},
   "outputs": [
    {
     "ename": "ModuleNotFoundError",
     "evalue": "No module named 'numpy.core.multiarray\\r'",
     "output_type": "error",
     "traceback": [
      "\u001b[1;31m---------------------------------------------------------------------------\u001b[0m",
      "\u001b[1;31mModuleNotFoundError\u001b[0m                       Traceback (most recent call last)",
      "\u001b[1;32m<ipython-input-12-9541780a2e45>\u001b[0m in \u001b[0;36m<module>\u001b[1;34m\u001b[0m\n\u001b[0;32m      5\u001b[0m \u001b[1;33m\u001b[0m\u001b[0m\n\u001b[0;32m      6\u001b[0m \u001b[1;31m# Datasets\u001b[0m\u001b[1;33m\u001b[0m\u001b[1;33m\u001b[0m\u001b[1;33m\u001b[0m\u001b[0m\n\u001b[1;32m----> 7\u001b[1;33m \u001b[0mgt_x\u001b[0m\u001b[1;33m,\u001b[0m \u001b[0mgt_y\u001b[0m \u001b[1;33m=\u001b[0m \u001b[0mpkl\u001b[0m\u001b[1;33m.\u001b[0m\u001b[0mload\u001b[0m\u001b[1;33m(\u001b[0m\u001b[0mopen\u001b[0m\u001b[1;33m(\u001b[0m\u001b[1;34m'data.pkl'\u001b[0m\u001b[1;33m,\u001b[0m\u001b[1;34m'rb'\u001b[0m\u001b[1;33m)\u001b[0m\u001b[1;33m,\u001b[0m \u001b[0mencoding\u001b[0m\u001b[1;33m=\u001b[0m\u001b[1;34m'latin1'\u001b[0m\u001b[1;33m)\u001b[0m\u001b[1;33m\u001b[0m\u001b[1;33m\u001b[0m\u001b[0m\n\u001b[0m\u001b[0;32m      8\u001b[0m \u001b[1;33m\u001b[0m\u001b[0m\n\u001b[0;32m      9\u001b[0m \u001b[1;31m# Predictions\u001b[0m\u001b[1;33m\u001b[0m\u001b[1;33m\u001b[0m\u001b[1;33m\u001b[0m\u001b[0m\n",
      "\u001b[1;31mModuleNotFoundError\u001b[0m: No module named 'numpy.core.multiarray\\r'"
     ]
    }
   ],
   "source": [
    "# -*- coding: utf-8 -*-\n",
    "%matplotlib inline\n",
    "import numpy as np\n",
    "import pickle as pkl\n",
    "\n",
    "# Datasets\n",
    "gt_x, gt_y = pkl.load(open('data.pkl','rb'), encoding='latin1')\n",
    "\n",
    "# Predictions\n",
    "probs_a_x, probs_b_x, probs_rand_x, probs_rand_y = pkl.load(open('predictions.pkl','rb'), encoding='latin1')"
   ]
  },
  {
   "cell_type": "markdown",
   "metadata": {},
   "source": [
    "#### a) Das Modell wird als binärer Klassifikator benutzt. Nehmen Sie dazu an, dass ein Bild als ,,Katze'' klassifiziert wird, wenn das Modell eine Wahrscheinlichkeit $>0.7$ ausgibt. Berechnen Sie zunächt die Werte für _true positives (tp)_, _false positives (fp)_, _true negatives (tn)_ und _false negatives (fn)_. Beurteilen Sie nun die Qualität des binären Klassifikators indem sie die folgenden Gütemaße berechnen: \n",
    "- Recall\n",
    "- Precision\n",
    "- Accuracy"
   ]
  },
  {
   "cell_type": "code",
   "execution_count": 4,
   "metadata": {},
   "outputs": [
    {
     "ename": "NameError",
     "evalue": "name 'gt_x' is not defined",
     "output_type": "error",
     "traceback": [
      "\u001b[1;31m---------------------------------------------------------------------------\u001b[0m",
      "\u001b[1;31mNameError\u001b[0m                                 Traceback (most recent call last)",
      "\u001b[1;32m<ipython-input-4-f9e53309bd37>\u001b[0m in \u001b[0;36m<module>\u001b[1;34m\u001b[0m\n\u001b[0;32m      5\u001b[0m \u001b[1;33m\u001b[0m\u001b[0m\n\u001b[0;32m      6\u001b[0m \u001b[1;32mfor\u001b[0m \u001b[0mi\u001b[0m \u001b[1;32min\u001b[0m \u001b[0mrange\u001b[0m\u001b[1;33m(\u001b[0m\u001b[1;36m5000\u001b[0m\u001b[1;33m)\u001b[0m\u001b[1;33m:\u001b[0m\u001b[1;33m\u001b[0m\u001b[1;33m\u001b[0m\u001b[0m\n\u001b[1;32m----> 7\u001b[1;33m     \u001b[1;32mif\u001b[0m \u001b[0mgt_x\u001b[0m\u001b[1;33m[\u001b[0m\u001b[0mi\u001b[0m\u001b[1;33m]\u001b[0m \u001b[1;33m>\u001b[0m \u001b[1;36m0\u001b[0m\u001b[1;33m:\u001b[0m\u001b[1;33m\u001b[0m\u001b[1;33m\u001b[0m\u001b[0m\n\u001b[0m\u001b[0;32m      8\u001b[0m         \u001b[1;32mif\u001b[0m \u001b[0mprobs_a_x\u001b[0m\u001b[1;33m[\u001b[0m\u001b[0mi\u001b[0m\u001b[1;33m]\u001b[0m \u001b[1;33m>\u001b[0m \u001b[1;36m0.7\u001b[0m\u001b[1;33m:\u001b[0m\u001b[1;33m\u001b[0m\u001b[1;33m\u001b[0m\u001b[0m\n\u001b[0;32m      9\u001b[0m             \u001b[0mtrue_positive\u001b[0m \u001b[1;33m+=\u001b[0m \u001b[1;36m1\u001b[0m\u001b[1;33m\u001b[0m\u001b[1;33m\u001b[0m\u001b[0m\n",
      "\u001b[1;31mNameError\u001b[0m: name 'gt_x' is not defined"
     ]
    }
   ],
   "source": [
    "true_positive = 0\n",
    "false_positive = 0\n",
    "true_negative = 0\n",
    "false_negative = 0\n",
    "\n",
    "for i in range(5000):\n",
    "    if gt_x[i] > 0:\n",
    "        if probs_a_x[i] > 0.7:\n",
    "            true_positive += 1\n",
    "        else:\n",
    "            false_negative += 1\n",
    "    else:\n",
    "        if probs_a_x[i] > 0.7:\n",
    "            false_positive += 1\n",
    "        else:\n",
    "            true_negative += 1\n",
    "\n",
    "#print (\"true positive: {0}\".format(true_positive))\n",
    "#print (\"false positive: {0}\".format(false_positive))\n",
    "#print (\"true negative: {0}\".format(true_negative))\n",
    "#print (\"false negative: {0}\".format(false_negative))\n",
    "recall = true_positive/(true_positive+false_negative)\n",
    "precision = true_positive/(true_positive+false_positive)\n",
    "accuracy = (true_positive+true_negative)/len(gt_x)\n",
    "print (\"Recall: {0}\".format(recall))\n",
    "print (\"Precision: {0}\".format(precision))\n",
    "print (\"Accuracy: {0}\".format(accuracy))"
   ]
  },
  {
   "cell_type": "markdown",
   "metadata": {},
   "source": [
    "#### b) Wie könnte ein Modell auf einfache Weise einen Recall von $100\\%$ erreichen?"
   ]
  },
  {
   "cell_type": "markdown",
   "metadata": {
    "collapsed": true
   },
   "source": [
    "Ein Recall von 100% ist einfach zu erreichen, indem der Klassifizierer alle Elemente positive klassifiziert. Somit sind können keine false negative Klassifizierungen entstehen, es werden relevanten Objekte gefunden und der Recall entspricht: ${tp \\over tp + 0}=1.0$"
   ]
  },
  {
   "cell_type": "markdown",
   "metadata": {},
   "source": [
    "#### c) Beschreiben Sie den Vorteil des _F-measure_ und berechnen Sie diesen."
   ]
  },
  {
   "cell_type": "code",
   "execution_count": 13,
   "metadata": {},
   "outputs": [
    {
     "name": "stdout",
     "output_type": "stream",
     "text": [
      "Der F-measure besitzt den Vorteil, dass sowohl die Precision als auch der Recall in die Berechnung mit einfließen und dadruch aus den beiden einzeln leicht zu manipulierenden Werten ein aussagekräftigerer Wert entsteht.\n"
     ]
    },
    {
     "ename": "NameError",
     "evalue": "name 'recall' is not defined",
     "output_type": "error",
     "traceback": [
      "\u001b[1;31m---------------------------------------------------------------------------\u001b[0m",
      "\u001b[1;31mNameError\u001b[0m                                 Traceback (most recent call last)",
      "\u001b[1;32m<ipython-input-13-e9984321ecbd>\u001b[0m in \u001b[0;36m<module>\u001b[1;34m\u001b[0m\n\u001b[0;32m      1\u001b[0m \u001b[0mprint\u001b[0m\u001b[1;33m(\u001b[0m\u001b[1;34m\"Der F-measure besitzt den Vorteil, dass sowohl die Precision als auch der Recall in die Berechnung mit einfließen und dadruch aus den beiden einzeln leicht zu manipulierenden Werten ein aussagekräftigerer Wert entsteht.\"\u001b[0m\u001b[1;33m)\u001b[0m\u001b[1;33m\u001b[0m\u001b[1;33m\u001b[0m\u001b[0m\n\u001b[0;32m      2\u001b[0m \u001b[1;33m\u001b[0m\u001b[0m\n\u001b[1;32m----> 3\u001b[1;33m \u001b[0mf\u001b[0m \u001b[1;33m=\u001b[0m \u001b[1;33m(\u001b[0m\u001b[1;36m2\u001b[0m\u001b[1;33m*\u001b[0m\u001b[0mrecall\u001b[0m\u001b[1;33m*\u001b[0m\u001b[0mprecision\u001b[0m\u001b[1;33m)\u001b[0m\u001b[1;33m/\u001b[0m\u001b[1;33m(\u001b[0m\u001b[0mrecall\u001b[0m\u001b[1;33m+\u001b[0m\u001b[0mprecision\u001b[0m\u001b[1;33m)\u001b[0m\u001b[1;33m\u001b[0m\u001b[1;33m\u001b[0m\u001b[0m\n\u001b[0m\u001b[0;32m      4\u001b[0m \u001b[0mprint\u001b[0m \u001b[1;33m(\u001b[0m\u001b[1;34m\"F-measure: {0}\"\u001b[0m\u001b[1;33m.\u001b[0m\u001b[0mformat\u001b[0m\u001b[1;33m(\u001b[0m\u001b[0mf\u001b[0m\u001b[1;33m)\u001b[0m\u001b[1;33m)\u001b[0m\u001b[1;33m\u001b[0m\u001b[1;33m\u001b[0m\u001b[0m\n",
      "\u001b[1;31mNameError\u001b[0m: name 'recall' is not defined"
     ]
    }
   ],
   "source": [
    "print(\"Der F-measure besitzt den Vorteil, dass sowohl die Precision als auch der Recall in die Berechnung mit einfließen und dadruch aus den beiden einzeln leicht zu manipulierenden Werten ein aussagekräftigerer Wert entsteht.\")\n",
    "\n",
    "f = (2*recall*precision)/(recall+precision)\n",
    "print (\"F-measure: {0}\".format(f))"
   ]
  },
  {
   "cell_type": "markdown",
   "metadata": {},
   "source": [
    "#### d) Die Precision-Recall Kurve ist ein zweidimensionaler Graph, in dem der _Recall_ auf der X-Achse und die _Precision_ auf der Y-Achse abgetragen werden. Mit dieser Kurve kann die Performance eines Klassifizierers visuell beurteilt und ein geeigneter Grenzwert gefunden werden. Plotten Sie die Recall-Precision Kurven von Modell A und B auf Datensatz X und vergleichen sie die Plots. Berechnen Sie auch die _AUC_ (area under curve). *Hinweis:* Sie dürfen die Bibliothek sklearn.metrics benutzen."
   ]
  },
  {
   "cell_type": "code",
   "execution_count": 15,
   "metadata": {},
   "outputs": [
    {
     "ename": "ModuleNotFoundError",
     "evalue": "No module named 'sklearn'",
     "output_type": "error",
     "traceback": [
      "\u001b[1;31m---------------------------------------------------------------------------\u001b[0m",
      "\u001b[1;31mModuleNotFoundError\u001b[0m                       Traceback (most recent call last)",
      "\u001b[1;32m<ipython-input-15-53d98334cb35>\u001b[0m in \u001b[0;36m<module>\u001b[1;34m\u001b[0m\n\u001b[1;32m----> 1\u001b[1;33m \u001b[1;32mfrom\u001b[0m \u001b[0msklearn\u001b[0m\u001b[1;33m.\u001b[0m\u001b[0mmetrics\u001b[0m \u001b[1;32mimport\u001b[0m \u001b[0mprecision_recall_curve\u001b[0m\u001b[1;33m,\u001b[0m \u001b[0mauc\u001b[0m\u001b[1;33m\u001b[0m\u001b[1;33m\u001b[0m\u001b[0m\n\u001b[0m\u001b[0;32m      2\u001b[0m \u001b[1;32mimport\u001b[0m \u001b[0mmatplotlib\u001b[0m\u001b[1;33m.\u001b[0m\u001b[0mpyplot\u001b[0m \u001b[1;32mas\u001b[0m \u001b[0mplt\u001b[0m\u001b[1;33m\u001b[0m\u001b[1;33m\u001b[0m\u001b[0m\n\u001b[0;32m      3\u001b[0m \u001b[1;33m\u001b[0m\u001b[0m\n\u001b[0;32m      4\u001b[0m \u001b[0mprecision_a\u001b[0m\u001b[1;33m,\u001b[0m \u001b[0mrecall_a\u001b[0m\u001b[1;33m,\u001b[0m \u001b[0mthresholds_a\u001b[0m \u001b[1;33m=\u001b[0m \u001b[0mprecision_recall_curve\u001b[0m\u001b[1;33m(\u001b[0m\u001b[0mgt_x\u001b[0m\u001b[1;33m,\u001b[0m \u001b[0mprobs_a_x\u001b[0m\u001b[1;33m)\u001b[0m\u001b[1;33m\u001b[0m\u001b[1;33m\u001b[0m\u001b[0m\n\u001b[0;32m      5\u001b[0m \u001b[0mprecision_b\u001b[0m\u001b[1;33m,\u001b[0m \u001b[0mrecall_b\u001b[0m\u001b[1;33m,\u001b[0m \u001b[0mthresholds_b\u001b[0m \u001b[1;33m=\u001b[0m \u001b[0mprecision_recall_curve\u001b[0m\u001b[1;33m(\u001b[0m\u001b[0mgt_x\u001b[0m\u001b[1;33m,\u001b[0m \u001b[0mprobs_b_x\u001b[0m\u001b[1;33m)\u001b[0m\u001b[1;33m\u001b[0m\u001b[1;33m\u001b[0m\u001b[0m\n",
      "\u001b[1;31mModuleNotFoundError\u001b[0m: No module named 'sklearn'"
     ]
    }
   ],
   "source": [
    "from sklearn.metrics import precision_recall_curve, auc\n",
    "import matplotlib.pyplot as plt\n",
    "\n",
    "precision_a, recall_a, thresholds_a = precision_recall_curve(gt_x, probs_a_x) \n",
    "precision_b, recall_b, thresholds_b = precision_recall_curve(gt_x, probs_b_x)\n",
    "\n",
    "a = plt.subplot(211)\n",
    "a.plot(recall_a, precision_a)\n",
    "b = plt.subplot(212)\n",
    "b.plot(recall_b, precision_b)"
   ]
  },
  {
   "cell_type": "markdown",
   "metadata": {},
   "source": [
    "#### e) Nehmen Sie an, dass das Modell benutzt wird, um dem Benutzer eine Liste von Katzenbildern zu präsentieren. In der Retrieval-Liste werden Katzenbilder weiter oben als solche ohne Katzen zurückgeben. Um die Güte des Retrieval-Ergebnisses zu messen, berechnen Sie die _average_ _precision_ (AP) auf (1) den top-100, (2) top-500 und (3) auf allen Bildern. "
   ]
  },
  {
   "cell_type": "code",
   "execution_count": null,
   "metadata": {},
   "outputs": [],
   "source": [
    "def average_precision(n, probs, gt):\n",
    "    relevant = 0\n",
    "    #precision = len(true_positive)/(len(true_positive)+len(false_positive))\n",
    "\n",
    "    for i in range(n):\n",
    "        if probs[i] > 0.7 and gt[i] == 1:\n",
    "            relevant += 1\n",
    "    return relevant/n\n",
    "\n",
    "print(\"Model A:\")\n",
    "print(\"Average Precision @1: {0}\".format(average_precision(1, probs_a_x, gt_x)))\n",
    "print(\"Average Precision @100: {0}\".format(average_precision(100, probs_a_x, gt_x)))\n",
    "print(\"Average Precision @500: {0}\".format(average_precision(500, probs_a_x, gt_x)))\n",
    "print(\"Average Precision: {0}\".format(average_precision(len(gt_x), probs_a_x, gt_x)))\n",
    "\n",
    "print(\"Model B:\")\n",
    "print(\"Average Precision @1: {0}\".format(average_precision(1, probs_b_x, gt_x)))\n",
    "print(\"Average Precision @100: {0}\".format(average_precision(100, probs_b_x, gt_x)))\n",
    "print(\"Average Precision @500: {0}\".format(average_precision(500, probs_b_x, gt_x)))\n",
    "print(\"Average Precision: {0}\".format(average_precision(len(gt_x), probs_b_x, gt_x)))\n",
    "\n"
   ]
  },
  {
   "cell_type": "markdown",
   "metadata": {},
   "source": [
    "#### f) Betrachten Sie nun einen weiteren Datensatz Y, der ebenfalls Bilder von Katzen enthält. Auch hierfür befinden sich die Groundtruth-Werte im IPython Notebook (gt\\_y). Plotten Sie die Verteilungen der Klassen in X und Y. Was fällt auf?"
   ]
  },
  {
   "cell_type": "code",
   "execution_count": null,
   "metadata": {},
   "outputs": [],
   "source": [
    "a = plt.subplot(211)\n",
    "a.plot(range(5000),gt_x)\n",
    "b = plt.subplot(212)\n",
    "b.plot(range(5000),gt_y)\n",
    "\n",
    "print(\"Es fällt auf dass die der Datensatz X mehr positive Werte enthält und diese außerdem dichter beisammen liegen\")\n",
    "\n"
   ]
  },
  {
   "cell_type": "markdown",
   "metadata": {},
   "source": [
    "#### g) Berechnen Sie die _AP-Werte_ der Ergebnisse (probs\\_rand\\_x und probs\\_rand\\_y) eines zufälligen Klassifizierers auf den Datensätzen X und Y. Welchen Einfluss hat die Verteilung der Daten auf die AP? "
   ]
  },
  {
   "cell_type": "code",
   "execution_count": null,
   "metadata": {},
   "outputs": [],
   "source": [
    "print(\"Datensatz X:\")\n",
    "print(\"Average Precision @1: {0}\".format(average_precision(1, probs_rand_x, gt_x)))\n",
    "print(\"Average Precision @100: {0}\".format(average_precision(100, probs_rand_x, gt_x)))\n",
    "print(\"Average Precision @500: {0}\".format(average_precision(500, probs_rand_x, gt_x)))\n",
    "print(\"Average Precision: {0}\".format(average_precision(len(gt_x), probs_rand_x, gt_x)))\n",
    "\n",
    "print(\"Datensatz Y:\")\n",
    "print(\"Average Precision @1: {0}\".format(average_precision(1, probs_rand_y, gt_y)))\n",
    "print(\"Average Precision @100: {0}\".format(average_precision(100, probs_rand_y, gt_y)))\n",
    "print(\"Average Precision @500: {0}\".format(average_precision(500, probs_rand_y, gt_y)))\n",
    "print(\"Average Precision: {0}\".format(average_precision(len(gt_x), probs_rand_y, gt_y)))\n",
    "\n",
    "print(\"Die deutlich lückenhaftere Verteilung auf dem Datensatz Y hat eine deutlich schlechtere Average Precision zur Folge\")"
   ]
  }
 ],
 "metadata": {
  "kernelspec": {
   "display_name": "Python 3",
   "language": "python",
   "name": "python3"
  },
  "language_info": {
   "codemirror_mode": {
    "name": "ipython",
    "version": 3
   },
   "file_extension": ".py",
   "mimetype": "text/x-python",
   "name": "python",
   "nbconvert_exporter": "python",
   "pygments_lexer": "ipython3",
   "version": "3.7.2"
  }
 },
 "nbformat": 4,
 "nbformat_minor": 1
}
